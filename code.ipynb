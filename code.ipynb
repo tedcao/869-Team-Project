{
 "cells": [
  {
   "cell_type": "code",
   "execution_count": 109,
   "metadata": {
    "collapsed": true,
    "ExecuteTime": {
     "end_time": "2023-07-20T11:14:39.964854Z",
     "start_time": "2023-07-20T11:14:39.786438Z"
    }
   },
   "outputs": [
    {
     "name": "stdout",
     "output_type": "stream",
     "text": [
      "2023-07-20 07:14:39.785019\n"
     ]
    }
   ],
   "source": [
    "import datetime\n",
    "print(datetime.datetime.now())"
   ]
  },
  {
   "cell_type": "code",
   "execution_count": 110,
   "outputs": [],
   "source": [
    "# Supress scikit-learn's deprecations warnings.\n",
    "\n",
    "import warnings\n",
    "warnings.filterwarnings(\"ignore\", category=DeprecationWarning)\n",
    "warnings.filterwarnings(\"ignore\", category=FutureWarning)"
   ],
   "metadata": {
    "collapsed": false,
    "ExecuteTime": {
     "end_time": "2023-07-20T11:14:39.966128Z",
     "start_time": "2023-07-20T11:14:39.793206Z"
    }
   }
  },
  {
   "cell_type": "code",
   "execution_count": 111,
   "outputs": [],
   "source": [
    "import pandas as pd\n",
    "import numpy as np\n",
    "\n",
    "import matplotlib.pyplot as plt\n",
    "from sklearn.impute import SimpleImputer\n",
    "from mpl_toolkits.mplot3d import Axes3D\n",
    "import seaborn as sns\n",
    "import itertools\n",
    "import scipy\n",
    "\n",
    "from IPython.core.interactiveshell import InteractiveShell\n",
    "InteractiveShell.ast_node_interactivity = \"all\""
   ],
   "metadata": {
    "collapsed": false,
    "ExecuteTime": {
     "end_time": "2023-07-20T11:14:39.985504Z",
     "start_time": "2023-07-20T11:14:39.795688Z"
    }
   }
  },
  {
   "cell_type": "markdown",
   "source": [
    "# Prepare the data"
   ],
   "metadata": {
    "collapsed": false
   }
  },
  {
   "cell_type": "code",
   "execution_count": 112,
   "outputs": [],
   "source": [
    "greeks = pd.read_csv(\"../icr-identify-age-related-conditions/greeks.csv\")\n",
    "test = pd.read_csv(\"../icr-identify-age-related-conditions/test.csv\")\n",
    "train = pd.read_csv(\"../icr-identify-age-related-conditions/train.csv\")\n",
    "# data = pd.merge(train, greeks[['Id', 'Alpha']], on='Id', how='left') # Merge the train and greek data"
   ],
   "metadata": {
    "collapsed": false,
    "ExecuteTime": {
     "end_time": "2023-07-20T11:14:40.038742Z",
     "start_time": "2023-07-20T11:14:39.814488Z"
    }
   }
  },
  {
   "cell_type": "markdown",
   "source": [
    "Alpha Identifies the type of age-related condition, if present.\n",
    "* A No age-related condition. Corresponds to class 0.\n",
    "* B, D, G The three age-related conditions. Correspond to class 1.\n",
    "Beta, Gamma, Delta Three experimental characteristics.\n",
    "\n",
    "Epsilon The date the data for this subject was collected. Note that all of the data in the test set was collected after the training set was collected."
   ],
   "metadata": {
    "collapsed": false
   }
  },
  {
   "cell_type": "code",
   "execution_count": 113,
   "outputs": [
    {
     "name": "stdout",
     "output_type": "stream",
     "text": [
      "<class 'pandas.core.frame.DataFrame'>\n",
      "RangeIndex: 617 entries, 0 to 616\n",
      "Data columns (total 58 columns):\n",
      " #   Column  Non-Null Count  Dtype  \n",
      "---  ------  --------------  -----  \n",
      " 0   Id      617 non-null    object \n",
      " 1   AB      617 non-null    float64\n",
      " 2   AF      617 non-null    float64\n",
      " 3   AH      617 non-null    float64\n",
      " 4   AM      617 non-null    float64\n",
      " 5   AR      617 non-null    float64\n",
      " 6   AX      617 non-null    float64\n",
      " 7   AY      617 non-null    float64\n",
      " 8   AZ      617 non-null    float64\n",
      " 9   BC      617 non-null    float64\n",
      " 10  BD      617 non-null    float64\n",
      " 11  BN      617 non-null    float64\n",
      " 12  BP      617 non-null    float64\n",
      " 13  BQ      557 non-null    float64\n",
      " 14  BR      617 non-null    float64\n",
      " 15  BZ      617 non-null    float64\n",
      " 16  CB      615 non-null    float64\n",
      " 17  CC      614 non-null    float64\n",
      " 18  CD      617 non-null    float64\n",
      " 19  CF      617 non-null    float64\n",
      " 20  CH      617 non-null    float64\n",
      " 21  CL      617 non-null    float64\n",
      " 22  CR      617 non-null    float64\n",
      " 23  CS      617 non-null    float64\n",
      " 24  CU      617 non-null    float64\n",
      " 25  CW      617 non-null    float64\n",
      " 26  DA      617 non-null    float64\n",
      " 27  DE      617 non-null    float64\n",
      " 28  DF      617 non-null    float64\n",
      " 29  DH      617 non-null    float64\n",
      " 30  DI      617 non-null    float64\n",
      " 31  DL      617 non-null    float64\n",
      " 32  DN      617 non-null    float64\n",
      " 33  DU      616 non-null    float64\n",
      " 34  DV      617 non-null    float64\n",
      " 35  DY      617 non-null    float64\n",
      " 36  EB      617 non-null    float64\n",
      " 37  EE      617 non-null    float64\n",
      " 38  EG      617 non-null    float64\n",
      " 39  EH      617 non-null    float64\n",
      " 40  EJ      617 non-null    object \n",
      " 41  EL      557 non-null    float64\n",
      " 42  EP      617 non-null    float64\n",
      " 43  EU      617 non-null    float64\n",
      " 44  FC      616 non-null    float64\n",
      " 45  FD      617 non-null    float64\n",
      " 46  FE      617 non-null    float64\n",
      " 47  FI      617 non-null    float64\n",
      " 48  FL      616 non-null    float64\n",
      " 49  FR      617 non-null    float64\n",
      " 50  FS      615 non-null    float64\n",
      " 51  GB      617 non-null    float64\n",
      " 52  GE      617 non-null    float64\n",
      " 53  GF      617 non-null    float64\n",
      " 54  GH      617 non-null    float64\n",
      " 55  GI      617 non-null    float64\n",
      " 56  GL      616 non-null    float64\n",
      " 57  Class   617 non-null    int64  \n",
      "dtypes: float64(55), int64(1), object(2)\n",
      "memory usage: 279.7+ KB\n"
     ]
    },
    {
     "data": {
      "text/plain": "             Id        AB          AF          AH         AM        AR  \\\n0  000ff2bfdfe9  0.209377  3109.03329   85.200147  22.394407  8.138688   \n1  007255e47698  0.145282   978.76416   85.200147  36.968889  8.138688   \n2  013f2bd269f5  0.470030  2635.10654   85.200147  32.360553  8.138688   \n3  043ac50845d5  0.252107  3819.65177  120.201618  77.112203  8.138688   \n4  044fb8a146ec  0.380297  3733.04844   85.200147  14.103738  8.138688   \n\n         AX        AY         AZ          BC  ...        FL        FR  \\\n0  0.699861  0.025578   9.812214    5.555634  ...  7.298162   1.73855   \n1  3.632190  0.025578  13.517790    1.229900  ...  0.173229   0.49706   \n2  6.732840  0.025578  12.824570    1.229900  ...  7.709560   0.97556   \n3  3.685344  0.025578  11.053708    1.229900  ...  6.122162   0.49706   \n4  3.942255  0.054810   3.396778  102.151980  ...  8.153058  48.50134   \n\n         FS         GB          GE            GF         GH         GI  \\\n0  0.094822  11.339138   72.611063   2003.810319  22.136229  69.834944   \n1  0.568932   9.292698   72.611063  27981.562750  29.135430  32.131996   \n2  1.198821  37.077772   88.609437  13676.957810  28.022851  35.192676   \n3  0.284466  18.529584   82.416803   2094.262452  39.948656  90.493248   \n4  0.121914  16.408728  146.109943   8524.370502  45.381316  36.262628   \n\n          GL  Class  \n0   0.120343      1  \n1  21.978000      0  \n2   0.196941      0  \n3   0.155829      0  \n4   0.096614      1  \n\n[5 rows x 58 columns]",
      "text/html": "<div>\n<style scoped>\n    .dataframe tbody tr th:only-of-type {\n        vertical-align: middle;\n    }\n\n    .dataframe tbody tr th {\n        vertical-align: top;\n    }\n\n    .dataframe thead th {\n        text-align: right;\n    }\n</style>\n<table border=\"1\" class=\"dataframe\">\n  <thead>\n    <tr style=\"text-align: right;\">\n      <th></th>\n      <th>Id</th>\n      <th>AB</th>\n      <th>AF</th>\n      <th>AH</th>\n      <th>AM</th>\n      <th>AR</th>\n      <th>AX</th>\n      <th>AY</th>\n      <th>AZ</th>\n      <th>BC</th>\n      <th>...</th>\n      <th>FL</th>\n      <th>FR</th>\n      <th>FS</th>\n      <th>GB</th>\n      <th>GE</th>\n      <th>GF</th>\n      <th>GH</th>\n      <th>GI</th>\n      <th>GL</th>\n      <th>Class</th>\n    </tr>\n  </thead>\n  <tbody>\n    <tr>\n      <th>0</th>\n      <td>000ff2bfdfe9</td>\n      <td>0.209377</td>\n      <td>3109.03329</td>\n      <td>85.200147</td>\n      <td>22.394407</td>\n      <td>8.138688</td>\n      <td>0.699861</td>\n      <td>0.025578</td>\n      <td>9.812214</td>\n      <td>5.555634</td>\n      <td>...</td>\n      <td>7.298162</td>\n      <td>1.73855</td>\n      <td>0.094822</td>\n      <td>11.339138</td>\n      <td>72.611063</td>\n      <td>2003.810319</td>\n      <td>22.136229</td>\n      <td>69.834944</td>\n      <td>0.120343</td>\n      <td>1</td>\n    </tr>\n    <tr>\n      <th>1</th>\n      <td>007255e47698</td>\n      <td>0.145282</td>\n      <td>978.76416</td>\n      <td>85.200147</td>\n      <td>36.968889</td>\n      <td>8.138688</td>\n      <td>3.632190</td>\n      <td>0.025578</td>\n      <td>13.517790</td>\n      <td>1.229900</td>\n      <td>...</td>\n      <td>0.173229</td>\n      <td>0.49706</td>\n      <td>0.568932</td>\n      <td>9.292698</td>\n      <td>72.611063</td>\n      <td>27981.562750</td>\n      <td>29.135430</td>\n      <td>32.131996</td>\n      <td>21.978000</td>\n      <td>0</td>\n    </tr>\n    <tr>\n      <th>2</th>\n      <td>013f2bd269f5</td>\n      <td>0.470030</td>\n      <td>2635.10654</td>\n      <td>85.200147</td>\n      <td>32.360553</td>\n      <td>8.138688</td>\n      <td>6.732840</td>\n      <td>0.025578</td>\n      <td>12.824570</td>\n      <td>1.229900</td>\n      <td>...</td>\n      <td>7.709560</td>\n      <td>0.97556</td>\n      <td>1.198821</td>\n      <td>37.077772</td>\n      <td>88.609437</td>\n      <td>13676.957810</td>\n      <td>28.022851</td>\n      <td>35.192676</td>\n      <td>0.196941</td>\n      <td>0</td>\n    </tr>\n    <tr>\n      <th>3</th>\n      <td>043ac50845d5</td>\n      <td>0.252107</td>\n      <td>3819.65177</td>\n      <td>120.201618</td>\n      <td>77.112203</td>\n      <td>8.138688</td>\n      <td>3.685344</td>\n      <td>0.025578</td>\n      <td>11.053708</td>\n      <td>1.229900</td>\n      <td>...</td>\n      <td>6.122162</td>\n      <td>0.49706</td>\n      <td>0.284466</td>\n      <td>18.529584</td>\n      <td>82.416803</td>\n      <td>2094.262452</td>\n      <td>39.948656</td>\n      <td>90.493248</td>\n      <td>0.155829</td>\n      <td>0</td>\n    </tr>\n    <tr>\n      <th>4</th>\n      <td>044fb8a146ec</td>\n      <td>0.380297</td>\n      <td>3733.04844</td>\n      <td>85.200147</td>\n      <td>14.103738</td>\n      <td>8.138688</td>\n      <td>3.942255</td>\n      <td>0.054810</td>\n      <td>3.396778</td>\n      <td>102.151980</td>\n      <td>...</td>\n      <td>8.153058</td>\n      <td>48.50134</td>\n      <td>0.121914</td>\n      <td>16.408728</td>\n      <td>146.109943</td>\n      <td>8524.370502</td>\n      <td>45.381316</td>\n      <td>36.262628</td>\n      <td>0.096614</td>\n      <td>1</td>\n    </tr>\n  </tbody>\n</table>\n<p>5 rows × 58 columns</p>\n</div>"
     },
     "execution_count": 113,
     "metadata": {},
     "output_type": "execute_result"
    }
   ],
   "source": [
    "train.info()\n",
    "train.head()"
   ],
   "metadata": {
    "collapsed": false,
    "ExecuteTime": {
     "end_time": "2023-07-20T11:14:40.040230Z",
     "start_time": "2023-07-20T11:14:39.834387Z"
    }
   }
  },
  {
   "cell_type": "markdown",
   "source": [
    "* Id Unique identifier for each observation.\n",
    "* AB-GL Fifty-six anonymized health characteristics. All are numeric except for EJ, which is categorical.\n",
    "* Class A binary target: 1 indicates the subject has been diagnosed with one of the three conditions, 0 indicates they have not."
   ],
   "metadata": {
    "collapsed": false
   }
  },
  {
   "cell_type": "code",
   "execution_count": 114,
   "outputs": [
    {
     "data": {
      "text/plain": "Id        0\nAB        0\nAF        0\nAH        0\nAM        0\nAR        0\nAX        0\nAY        0\nAZ        0\nBC        0\nBD        0\nBN        0\nBP        0\nBQ       60\nBR        0\nBZ        0\nCB        2\nCC        3\nCD        0\nCF        0\nCH        0\nCL        0\nCR        0\nCS        0\nCU        0\nCW        0\nDA        0\nDE        0\nDF        0\nDH        0\nDI        0\nDL        0\nDN        0\nDU        1\nDV        0\nDY        0\nEB        0\nEE        0\nEG        0\nEH        0\nEJ        0\nEL       60\nEP        0\nEU        0\nFC        1\nFD        0\nFE        0\nFI        0\nFL        1\nFR        0\nFS        2\nGB        0\nGE        0\nGF        0\nGH        0\nGI        0\nGL        1\nClass     0\ndtype: int64"
     },
     "execution_count": 114,
     "metadata": {},
     "output_type": "execute_result"
    }
   ],
   "source": [
    "#identify columns with NAs and the number of NAs\n",
    "train.isnull().sum()"
   ],
   "metadata": {
    "collapsed": false,
    "ExecuteTime": {
     "end_time": "2023-07-20T11:14:40.041380Z",
     "start_time": "2023-07-20T11:14:39.856806Z"
    }
   }
  },
  {
   "cell_type": "markdown",
   "source": [
    "## Clean the Data"
   ],
   "metadata": {
    "collapsed": false
   }
  },
  {
   "cell_type": "code",
   "execution_count": 115,
   "outputs": [
    {
     "name": "stdout",
     "output_type": "stream",
     "text": [
      "df_train shape: (617, 57)\n",
      "\n",
      "df_test shape: (5, 56)\n",
      "\n"
     ]
    }
   ],
   "source": [
    "train = train.drop(['EJ'], axis=1)\n",
    "test = test.drop(['EJ'], axis=1)\n",
    "\n",
    "train = train.rename(columns={'BD ': 'BD', 'CD ': 'CD', 'CW ': 'CW', 'FD ': 'FD'})\n",
    "test = test.rename(columns={'BD ': 'BD', 'CD ': 'CD', 'CW ': 'CW', 'FD ': 'FD'})\n",
    "\n",
    "print(f'df_train shape: {train.shape}\\n')\n",
    "print(f'df_test shape: {test.shape}\\n')"
   ],
   "metadata": {
    "collapsed": false,
    "ExecuteTime": {
     "end_time": "2023-07-20T11:14:40.042499Z",
     "start_time": "2023-07-20T11:14:39.879729Z"
    }
   }
  },
  {
   "cell_type": "markdown",
   "source": [
    "## Handle Missing Data\n",
    "Fulfill the missing data with the mean value"
   ],
   "metadata": {
    "collapsed": false
   }
  },
  {
   "cell_type": "code",
   "execution_count": 116,
   "outputs": [
    {
     "data": {
      "text/plain": "[]"
     },
     "execution_count": 116,
     "metadata": {},
     "output_type": "execute_result"
    },
    {
     "name": "stdout",
     "output_type": "stream",
     "text": [
      "<class 'pandas.core.frame.DataFrame'>\n",
      "RangeIndex: 617 entries, 0 to 616\n",
      "Data columns (total 57 columns):\n",
      " #   Column  Non-Null Count  Dtype  \n",
      "---  ------  --------------  -----  \n",
      " 0   Id      617 non-null    int16  \n",
      " 1   AB      617 non-null    float64\n",
      " 2   AF      617 non-null    float64\n",
      " 3   AH      617 non-null    float64\n",
      " 4   AM      617 non-null    float64\n",
      " 5   AR      617 non-null    float64\n",
      " 6   AX      617 non-null    float64\n",
      " 7   AY      617 non-null    float64\n",
      " 8   AZ      617 non-null    float64\n",
      " 9   BC      617 non-null    float64\n",
      " 10  BD      617 non-null    float64\n",
      " 11  BN      617 non-null    float64\n",
      " 12  BP      617 non-null    float64\n",
      " 13  BQ      617 non-null    float64\n",
      " 14  BR      617 non-null    float64\n",
      " 15  BZ      617 non-null    float64\n",
      " 16  CB      617 non-null    float64\n",
      " 17  CC      617 non-null    float64\n",
      " 18  CD      617 non-null    float64\n",
      " 19  CF      617 non-null    float64\n",
      " 20  CH      617 non-null    float64\n",
      " 21  CL      617 non-null    float64\n",
      " 22  CR      617 non-null    float64\n",
      " 23  CS      617 non-null    float64\n",
      " 24  CU      617 non-null    float64\n",
      " 25  CW      617 non-null    float64\n",
      " 26  DA      617 non-null    float64\n",
      " 27  DE      617 non-null    float64\n",
      " 28  DF      617 non-null    float64\n",
      " 29  DH      617 non-null    float64\n",
      " 30  DI      617 non-null    float64\n",
      " 31  DL      617 non-null    float64\n",
      " 32  DN      617 non-null    float64\n",
      " 33  DU      617 non-null    float64\n",
      " 34  DV      617 non-null    float64\n",
      " 35  DY      617 non-null    float64\n",
      " 36  EB      617 non-null    float64\n",
      " 37  EE      617 non-null    float64\n",
      " 38  EG      617 non-null    float64\n",
      " 39  EH      617 non-null    float64\n",
      " 40  EL      617 non-null    float64\n",
      " 41  EP      617 non-null    float64\n",
      " 42  EU      617 non-null    float64\n",
      " 43  FC      617 non-null    float64\n",
      " 44  FD      617 non-null    float64\n",
      " 45  FE      617 non-null    float64\n",
      " 46  FI      617 non-null    float64\n",
      " 47  FL      617 non-null    float64\n",
      " 48  FR      617 non-null    float64\n",
      " 49  FS      617 non-null    float64\n",
      " 50  GB      617 non-null    float64\n",
      " 51  GE      617 non-null    float64\n",
      " 52  GF      617 non-null    float64\n",
      " 53  GH      617 non-null    float64\n",
      " 54  GI      617 non-null    float64\n",
      " 55  GL      617 non-null    float64\n",
      " 56  Class   617 non-null    int64  \n",
      "dtypes: float64(55), int16(1), int64(1)\n",
      "memory usage: 271.3 KB\n"
     ]
    }
   ],
   "source": [
    "# Select the features and target\n",
    "features_numerical  = [column for column in train.columns if column not in ['Id', 'Class', 'Alpha']]\n",
    "target = 'Class'\n",
    "\n",
    "# Prepare the data - encode, remove inf, -inf and fill NaNs\n",
    "for column in train.columns:\n",
    "    if train[column].dtype == 'object':\n",
    "        train[column] = train[column].astype('category').cat.codes\n",
    "\n",
    "for column in features_numerical:\n",
    "    train[column] = train[column].replace([np.inf, -np.inf], np.nan)\n",
    "    train[column] = train[column].fillna(train[column].mean())\n",
    "\n",
    "train.columns[train.isnull().any()].tolist()\n",
    "train.info()"
   ],
   "metadata": {
    "collapsed": false,
    "ExecuteTime": {
     "end_time": "2023-07-20T11:14:40.046359Z",
     "start_time": "2023-07-20T11:14:39.900939Z"
    }
   }
  },
  {
   "cell_type": "markdown",
   "source": [
    "## Find and remove outliers of health characteristics"
   ],
   "metadata": {
    "collapsed": false
   }
  },
  {
   "cell_type": "code",
   "execution_count": 117,
   "outputs": [
    {
     "name": "stdout",
     "output_type": "stream",
     "text": [
      "0.477149358184765\n",
      "The count of outliers are: 35\n",
      "3502.0132207455435\n",
      "The count of outliers are: 19\n",
      "118.62451267179904\n",
      "The count of outliers are: 70\n",
      "38.96855212965964\n",
      "The count of outliers are: 54\n",
      "10.12824205186386\n",
      "The count of outliers are: 133\n",
      "5.545576059967586\n",
      "The count of outliers are: 27\n",
      "0.06031962398703402\n",
      "The count of outliers are: 107\n",
      "10.566446961102107\n",
      "The count of outliers are: 14\n",
      "8.053011588330632\n",
      "The count of outliers are: 45\n",
      "21.419492382495946\n",
      "The count of outliers are: 14\n",
      "98.32873688509875\n",
      "The count of outliers are: 58\n",
      "1218.133237713128\n",
      "The count of outliers are: 47\n",
      "550.6325253525121\n",
      "The count of outliers are: 116\n",
      "77.10415084878048\n",
      "The count of outliers are: 47\n",
      "11.241063893030795\n",
      "The count of outliers are: 38\n",
      "0.030614714748784445\n",
      "The count of outliers are: 30\n",
      "1.4037610332252837\n",
      "The count of outliers are: 74\n",
      "0.7422616288492706\n",
      "The count of outliers are: 31\n",
      "36.91758957131281\n",
      "The count of outliers are: 31\n",
      "1.3837923598055106\n",
      "The count of outliers are: 21\n",
      "51.128325834683956\n",
      "The count of outliers are: 19\n",
      "401.90129933144243\n",
      "The count of outliers are: 38\n",
      "0.6338838136142626\n",
      "The count of outliers are: 137\n",
      "0.36700159157212314\n",
      "The count of outliers are: 19\n",
      "146.972099089141\n",
      "The count of outliers are: 35\n",
      "94.79537737439222\n",
      "The count of outliers are: 16\n",
      "26.37056827228525\n",
      "The count of outliers are: 15\n",
      "1.9248296515397079\n",
      "The count of outliers are: 38\n",
      "26.388989319286868\n",
      "The count of outliers are: 29\n",
      "9.072700162074554\n",
      "The count of outliers are: 21\n",
      "3.064778446515397\n",
      "The count of outliers are: 23\n",
      "1731.2482153152353\n",
      "The count of outliers are: 21\n",
      "0.3051071766612642\n",
      "The count of outliers are: 52\n",
      "105.06071236142625\n",
      "The count of outliers are: 45\n",
      "69.1170053095624\n",
      "The count of outliers are: 38\n",
      "10306.810737421394\n",
      "The count of outliers are: 55\n",
      "10.111078782009725\n",
      "The count of outliers are: 44\n",
      "3.533905218800648\n",
      "The count of outliers are: 15\n",
      "20.724856000000003\n",
      "The count of outliers are: 11\n",
      "131.71498653484605\n",
      "The count of outliers are: 79\n",
      "14679.595397902758\n",
      "The count of outliers are: 43\n",
      "31.48971634927066\n",
      "The count of outliers are: 12\n",
      "50.584436914100486\n",
      "The count of outliers are: 21\n"
     ]
    }
   ],
   "source": [
    "# Visualize the data in line chart\n",
    "feature_names = ['AB', 'AF', 'AH', 'AM', 'AR', 'AX', 'AY', 'AZ', 'BC', 'BN', 'BQ', 'BR', 'BZ', 'CB', 'CF', 'CH', 'CL', 'CR', 'CS', 'CU', 'DA', 'DE', 'DF', 'DH', 'DI', 'DL', 'DN', 'DV', 'DY', 'EB', 'EE', 'EG', 'EH', 'EP', 'EU', 'FE', 'FI', 'FR', 'GB', 'GE', 'GF', 'GH', 'GI']\n",
    "# feature_names = ['AB']\n",
    "\n",
    "def lineChart(feature_name):\n",
    "    feature_data = train[feature_name].to_numpy()\n",
    "    plt.plot(feature_data)\n",
    "    plt.show()\n",
    "\n",
    "# remove the outliers using IQR logic\n",
    "def removeOutliers(feature_data):\n",
    "    # print(feature_data)\n",
    "    mean = np.mean(feature_data)\n",
    "    print(mean)\n",
    "    q1, q3 = np.percentile(feature_data, [25, 75])\n",
    "    iqr = q3 - q1\n",
    "    lower_bound = q1 - (1.5 * iqr)\n",
    "    upper_bound = q3 + (1.5 * iqr)\n",
    "    outliers = [x for x in feature_data if x < lower_bound or x > upper_bound]\n",
    "    feature_data_replaced = [mean if x < lower_bound or x > upper_bound else x for x in feature_data]\n",
    "    print(\"The count of outliers are:\", len(outliers))\n",
    "    # print(\"The data with replaced outliers is:\", feature_data_replaced)\n",
    "    return feature_data_replaced\n",
    "\n",
    "for feature_name in feature_names:\n",
    "    # lineChart(feature_name)\n",
    "    feature_data = train[feature_name]\n",
    "    feature_data_new = removeOutliers(feature_data)\n",
    "    # print(len(feature_data), len(feature_data_new))\n",
    "    train[feature_name] = feature_data_new"
   ],
   "metadata": {
    "collapsed": false,
    "ExecuteTime": {
     "end_time": "2023-07-20T11:14:40.046669Z",
     "start_time": "2023-07-20T11:14:39.937409Z"
    }
   }
  },
  {
   "cell_type": "code",
   "execution_count": 118,
   "outputs": [
    {
     "data": {
      "text/plain": "[<matplotlib.lines.Line2D at 0x7f9bfa53eb30>]"
     },
     "execution_count": 118,
     "metadata": {},
     "output_type": "execute_result"
    },
    {
     "data": {
      "text/plain": "<Figure size 640x480 with 1 Axes>",
      "image/png": "[encoded data removed]"
     },
     "metadata": {},
     "output_type": "display_data"
    }
   ],
   "source": [
    "# visualization of the data after removing outlier\n",
    "plt.plot(train['AF'])\n",
    "plt.show()"
   ],
   "metadata": {
    "collapsed": false,
    "ExecuteTime": {
     "end_time": "2023-07-20T11:14:40.188411Z",
     "start_time": "2023-07-20T11:14:39.971463Z"
    }
   }
  },
  {
   "cell_type": "markdown",
   "source": [
    "At this stage: missing value was fulfilled with mean of each column and outlier was also removed. Column name was updated to remove the space. Unnecessary column was removed: EJ"
   ],
   "metadata": {
    "collapsed": false
   }
  },
  {
   "cell_type": "markdown",
   "source": [
    "## Feature Scaling"
   ],
   "metadata": {
    "collapsed": false
   }
  },
  {
   "cell_type": "code",
   "execution_count": 119,
   "outputs": [
    {
     "name": "stdout",
     "output_type": "stream",
     "text": [
      "<class 'pandas.core.frame.DataFrame'>\n",
      "RangeIndex: 617 entries, 0 to 616\n",
      "Data columns (total 57 columns):\n",
      " #   Column  Non-Null Count  Dtype  \n",
      "---  ------  --------------  -----  \n",
      " 0   Id      617 non-null    int16  \n",
      " 1   AB      617 non-null    float64\n",
      " 2   AF      617 non-null    float64\n",
      " 3   AH      617 non-null    float64\n",
      " 4   AM      617 non-null    float64\n",
      " 5   AR      617 non-null    float64\n",
      " 6   AX      617 non-null    float64\n",
      " 7   AY      617 non-null    float64\n",
      " 8   AZ      617 non-null    float64\n",
      " 9   BC      617 non-null    float64\n",
      " 10  BD      617 non-null    float64\n",
      " 11  BN      617 non-null    float64\n",
      " 12  BP      617 non-null    float64\n",
      " 13  BQ      617 non-null    float64\n",
      " 14  BR      617 non-null    float64\n",
      " 15  BZ      617 non-null    float64\n",
      " 16  CB      617 non-null    float64\n",
      " 17  CC      617 non-null    float64\n",
      " 18  CD      617 non-null    float64\n",
      " 19  CF      617 non-null    float64\n",
      " 20  CH      617 non-null    float64\n",
      " 21  CL      617 non-null    float64\n",
      " 22  CR      617 non-null    float64\n",
      " 23  CS      617 non-null    float64\n",
      " 24  CU      617 non-null    float64\n",
      " 25  CW      617 non-null    float64\n",
      " 26  DA      617 non-null    float64\n",
      " 27  DE      617 non-null    float64\n",
      " 28  DF      617 non-null    float64\n",
      " 29  DH      617 non-null    float64\n",
      " 30  DI      617 non-null    float64\n",
      " 31  DL      617 non-null    float64\n",
      " 32  DN      617 non-null    float64\n",
      " 33  DU      617 non-null    float64\n",
      " 34  DV      617 non-null    float64\n",
      " 35  DY      617 non-null    float64\n",
      " 36  EB      617 non-null    float64\n",
      " 37  EE      617 non-null    float64\n",
      " 38  EG      617 non-null    float64\n",
      " 39  EH      617 non-null    float64\n",
      " 40  EL      617 non-null    float64\n",
      " 41  EP      617 non-null    float64\n",
      " 42  EU      617 non-null    float64\n",
      " 43  FC      617 non-null    float64\n",
      " 44  FD      617 non-null    float64\n",
      " 45  FE      617 non-null    float64\n",
      " 46  FI      617 non-null    float64\n",
      " 47  FL      617 non-null    float64\n",
      " 48  FR      617 non-null    float64\n",
      " 49  FS      617 non-null    float64\n",
      " 50  GB      617 non-null    float64\n",
      " 51  GE      617 non-null    float64\n",
      " 52  GF      617 non-null    float64\n",
      " 53  GH      617 non-null    float64\n",
      " 54  GI      617 non-null    float64\n",
      " 55  GL      617 non-null    float64\n",
      " 56  Class   617 non-null    int64  \n",
      "dtypes: float64(55), int16(1), int64(1)\n",
      "memory usage: 271.3 KB\n"
     ]
    }
   ],
   "source": [
    "train.info()"
   ],
   "metadata": {
    "collapsed": false,
    "ExecuteTime": {
     "end_time": "2023-07-20T11:14:40.188711Z",
     "start_time": "2023-07-20T11:14:40.127310Z"
    }
   }
  },
  {
   "cell_type": "code",
   "execution_count": null,
   "outputs": [],
   "source": [
    "from sklearn.preprocessing import StandardScaler\n",
    "# get feature data\n",
    "features = train.drop(columns=[\"Id\", \"Class\"], axis=1)\n",
    "target = train['Class']"
   ],
   "metadata": {
    "collapsed": false
   }
  },
  {
   "cell_type": "code",
   "execution_count": 123,
   "outputs": [
    {
     "data": {
      "text/plain": "StandardScaler()",
      "text/html": "<style>#sk-container-id-6 {color: black;background-color: white;}#sk-container-id-6 pre{padding: 0;}#sk-container-id-6 div.sk-toggleable {background-color: white;}#sk-container-id-6 label.sk-toggleable__label {cursor: pointer;display: block;width: 100%;margin-bottom: 0;padding: 0.3em;box-sizing: border-box;text-align: center;}#sk-container-id-6 label.sk-toggleable__label-arrow:before {content: \"▸\";float: left;margin-right: 0.25em;color: #696969;}#sk-container-id-6 label.sk-toggleable__label-arrow:hover:before {color: black;}#sk-container-id-6 div.sk-estimator:hover label.sk-toggleable__label-arrow:before {color: black;}#sk-container-id-6 div.sk-toggleable__content {max-height: 0;max-width: 0;overflow: hidden;text-align: left;background-color: #f0f8ff;}#sk-container-id-6 div.sk-toggleable__content pre {margin: 0.2em;color: black;border-radius: 0.25em;background-color: #f0f8ff;}#sk-container-id-6 input.sk-toggleable__control:checked~div.sk-toggleable__content {max-height: 200px;max-width: 100%;overflow: auto;}#sk-container-id-6 input.sk-toggleable__control:checked~label.sk-toggleable__label-arrow:before {content: \"▾\";}#sk-container-id-6 div.sk-estimator input.sk-toggleable__control:checked~label.sk-toggleable__label {background-color: #d4ebff;}#sk-container-id-6 div.sk-label input.sk-toggleable__control:checked~label.sk-toggleable__label {background-color: #d4ebff;}#sk-container-id-6 input.sk-hidden--visually {border: 0;clip: rect(1px 1px 1px 1px);clip: rect(1px, 1px, 1px, 1px);height: 1px;margin: -1px;overflow: hidden;padding: 0;position: absolute;width: 1px;}#sk-container-id-6 div.sk-estimator {font-family: monospace;background-color: #f0f8ff;border: 1px dotted black;border-radius: 0.25em;box-sizing: border-box;margin-bottom: 0.5em;}#sk-container-id-6 div.sk-estimator:hover {background-color: #d4ebff;}#sk-container-id-6 div.sk-parallel-item::after {content: \"\";width: 100%;border-bottom: 1px solid gray;flex-grow: 1;}#sk-container-id-6 div.sk-label:hover label.sk-toggleable__label {background-color: #d4ebff;}#sk-container-id-6 div.sk-serial::before {content: \"\";position: absolute;border-left: 1px solid gray;box-sizing: border-box;top: 0;bottom: 0;left: 50%;z-index: 0;}#sk-container-id-6 div.sk-serial {display: flex;flex-direction: column;align-items: center;background-color: white;padding-right: 0.2em;padding-left: 0.2em;position: relative;}#sk-container-id-6 div.sk-item {position: relative;z-index: 1;}#sk-container-id-6 div.sk-parallel {display: flex;align-items: stretch;justify-content: center;background-color: white;position: relative;}#sk-container-id-6 div.sk-item::before, #sk-container-id-6 div.sk-parallel-item::before {content: \"\";position: absolute;border-left: 1px solid gray;box-sizing: border-box;top: 0;bottom: 0;left: 50%;z-index: -1;}#sk-container-id-6 div.sk-parallel-item {display: flex;flex-direction: column;z-index: 1;position: relative;background-color: white;}#sk-container-id-6 div.sk-parallel-item:first-child::after {align-self: flex-end;width: 50%;}#sk-container-id-6 div.sk-parallel-item:last-child::after {align-self: flex-start;width: 50%;}#sk-container-id-6 div.sk-parallel-item:only-child::after {width: 0;}#sk-container-id-6 div.sk-dashed-wrapped {border: 1px dashed gray;margin: 0 0.4em 0.5em 0.4em;box-sizing: border-box;padding-bottom: 0.4em;background-color: white;}#sk-container-id-6 div.sk-label label {font-family: monospace;font-weight: bold;display: inline-block;line-height: 1.2em;}#sk-container-id-6 div.sk-label-container {text-align: center;}#sk-container-id-6 div.sk-container {/* jupyter's `normalize.less` sets `[hidden] { display: none; }` but bootstrap.min.css set `[hidden] { display: none !important; }` so we also need the `!important` here to be able to override the default hidden behavior on the sphinx rendered scikit-learn.org. See: https://github.com/scikit-learn/scikit-learn/issues/21755 */display: inline-block !important;position: relative;}#sk-container-id-6 div.sk-text-repr-fallback {display: none;}</style><div id=\"sk-container-id-6\" class=\"sk-top-container\"><div class=\"sk-text-repr-fallback\"><pre>StandardScaler()</pre><b>In a Jupyter environment, please rerun this cell to show the HTML representation or trust the notebook. <br />On GitHub, the HTML representation is unable to render, please try loading this page with nbviewer.org.</b></div><div class=\"sk-container\" hidden><div class=\"sk-item\"><div class=\"sk-estimator sk-toggleable\"><input class=\"sk-toggleable__control sk-hidden--visually\" id=\"sk-estimator-id-6\" type=\"checkbox\" checked><label for=\"sk-estimator-id-6\" class=\"sk-toggleable__label sk-toggleable__label-arrow\">StandardScaler</label><div class=\"sk-toggleable__content\"><pre>StandardScaler()</pre></div></div></div></div></div>"
     },
     "execution_count": 123,
     "metadata": {},
     "output_type": "execute_result"
    },
    {
     "data": {
      "text/plain": "array([[-0.98324512, -0.09363553, -0.64807134, ..., -1.01098094,\n         0.76211309, -0.81575237],\n       [-1.3143286 , -1.48253018, -0.64807134, ..., -0.19891381,\n        -0.49273965,  1.30423877],\n       [ 0.36316104, -0.40262669, -0.64807134, ..., -0.32799838,\n        -0.39087222, -0.80832304],\n       ...,\n       [ 0.14243872, -0.51737489,  1.82471227, ..., -0.54342714,\n         2.41707373,  1.30423877],\n       [-0.18864476, -1.29686489, -0.64807134, ..., -0.66517245,\n        -0.32555721, -0.80951792],\n       [ 0.42937773, -0.37822453,  1.19113856, ...,  1.72828856,\n         2.26007804,  1.30423877]])"
     },
     "execution_count": 123,
     "metadata": {},
     "output_type": "execute_result"
    }
   ],
   "source": [
    "# Scale the values using standard scaler\n",
    "scaler = StandardScaler()\n",
    "scaler.fit(features)\n",
    "X_scaled = scaler.transform(features)\n",
    "X_scaled"
   ],
   "metadata": {
    "collapsed": false,
    "ExecuteTime": {
     "end_time": "2023-07-20T11:16:22.484795Z",
     "start_time": "2023-07-20T11:16:22.464156Z"
    }
   }
  },
  {
   "cell_type": "code",
   "execution_count": 121,
   "outputs": [
    {
     "data": {
      "text/plain": "(617, 46)"
     },
     "execution_count": 121,
     "metadata": {},
     "output_type": "execute_result"
    },
    {
     "ename": "ValueError",
     "evalue": "Unknown label type: 'continuous-multioutput'",
     "output_type": "error",
     "traceback": [
      "\u001B[0;31m---------------------------------------------------------------------------\u001B[0m",
      "\u001B[0;31mValueError\u001B[0m                                Traceback (most recent call last)",
      "Cell \u001B[0;32mIn[121], line 16\u001B[0m\n\u001B[1;32m     13\u001B[0m X_train_new\u001B[38;5;241m.\u001B[39mshape\n\u001B[1;32m     15\u001B[0m clf \u001B[38;5;241m=\u001B[39m DecisionTreeClassifier(random_state\u001B[38;5;241m=\u001B[39m\u001B[38;5;241m0\u001B[39m)\n\u001B[0;32m---> 16\u001B[0m clf \u001B[38;5;241m=\u001B[39m \u001B[43mclf\u001B[49m\u001B[38;5;241;43m.\u001B[39;49m\u001B[43mfit\u001B[49m\u001B[43m(\u001B[49m\u001B[43mX_train_new\u001B[49m\u001B[43m,\u001B[49m\u001B[43m \u001B[49m\u001B[43mtrain\u001B[49m\u001B[43m)\u001B[49m\n\u001B[1;32m     17\u001B[0m y_pred \u001B[38;5;241m=\u001B[39m clf\u001B[38;5;241m.\u001B[39mpredict(X_test_new)\n",
      "File \u001B[0;32m~/anaconda3/lib/python3.10/site-packages/sklearn/tree/_classes.py:889\u001B[0m, in \u001B[0;36mDecisionTreeClassifier.fit\u001B[0;34m(self, X, y, sample_weight, check_input)\u001B[0m\n\u001B[1;32m    859\u001B[0m \u001B[38;5;28;01mdef\u001B[39;00m \u001B[38;5;21mfit\u001B[39m(\u001B[38;5;28mself\u001B[39m, X, y, sample_weight\u001B[38;5;241m=\u001B[39m\u001B[38;5;28;01mNone\u001B[39;00m, check_input\u001B[38;5;241m=\u001B[39m\u001B[38;5;28;01mTrue\u001B[39;00m):\n\u001B[1;32m    860\u001B[0m     \u001B[38;5;124;03m\"\"\"Build a decision tree classifier from the training set (X, y).\u001B[39;00m\n\u001B[1;32m    861\u001B[0m \n\u001B[1;32m    862\u001B[0m \u001B[38;5;124;03m    Parameters\u001B[39;00m\n\u001B[0;32m   (...)\u001B[0m\n\u001B[1;32m    886\u001B[0m \u001B[38;5;124;03m        Fitted estimator.\u001B[39;00m\n\u001B[1;32m    887\u001B[0m \u001B[38;5;124;03m    \"\"\"\u001B[39;00m\n\u001B[0;32m--> 889\u001B[0m     \u001B[38;5;28;43msuper\u001B[39;49m\u001B[43m(\u001B[49m\u001B[43m)\u001B[49m\u001B[38;5;241;43m.\u001B[39;49m\u001B[43mfit\u001B[49m\u001B[43m(\u001B[49m\n\u001B[1;32m    890\u001B[0m \u001B[43m        \u001B[49m\u001B[43mX\u001B[49m\u001B[43m,\u001B[49m\n\u001B[1;32m    891\u001B[0m \u001B[43m        \u001B[49m\u001B[43my\u001B[49m\u001B[43m,\u001B[49m\n\u001B[1;32m    892\u001B[0m \u001B[43m        \u001B[49m\u001B[43msample_weight\u001B[49m\u001B[38;5;241;43m=\u001B[39;49m\u001B[43msample_weight\u001B[49m\u001B[43m,\u001B[49m\n\u001B[1;32m    893\u001B[0m \u001B[43m        \u001B[49m\u001B[43mcheck_input\u001B[49m\u001B[38;5;241;43m=\u001B[39;49m\u001B[43mcheck_input\u001B[49m\u001B[43m,\u001B[49m\n\u001B[1;32m    894\u001B[0m \u001B[43m    \u001B[49m\u001B[43m)\u001B[49m\n\u001B[1;32m    895\u001B[0m     \u001B[38;5;28;01mreturn\u001B[39;00m \u001B[38;5;28mself\u001B[39m\n",
      "File \u001B[0;32m~/anaconda3/lib/python3.10/site-packages/sklearn/tree/_classes.py:224\u001B[0m, in \u001B[0;36mBaseDecisionTree.fit\u001B[0;34m(self, X, y, sample_weight, check_input)\u001B[0m\n\u001B[1;32m    221\u001B[0m \u001B[38;5;28mself\u001B[39m\u001B[38;5;241m.\u001B[39mn_outputs_ \u001B[38;5;241m=\u001B[39m y\u001B[38;5;241m.\u001B[39mshape[\u001B[38;5;241m1\u001B[39m]\n\u001B[1;32m    223\u001B[0m \u001B[38;5;28;01mif\u001B[39;00m is_classification:\n\u001B[0;32m--> 224\u001B[0m     \u001B[43mcheck_classification_targets\u001B[49m\u001B[43m(\u001B[49m\u001B[43my\u001B[49m\u001B[43m)\u001B[49m\n\u001B[1;32m    225\u001B[0m     y \u001B[38;5;241m=\u001B[39m np\u001B[38;5;241m.\u001B[39mcopy(y)\n\u001B[1;32m    227\u001B[0m     \u001B[38;5;28mself\u001B[39m\u001B[38;5;241m.\u001B[39mclasses_ \u001B[38;5;241m=\u001B[39m []\n",
      "File \u001B[0;32m~/anaconda3/lib/python3.10/site-packages/sklearn/utils/multiclass.py:207\u001B[0m, in \u001B[0;36mcheck_classification_targets\u001B[0;34m(y)\u001B[0m\n\u001B[1;32m    199\u001B[0m y_type \u001B[38;5;241m=\u001B[39m type_of_target(y, input_name\u001B[38;5;241m=\u001B[39m\u001B[38;5;124m\"\u001B[39m\u001B[38;5;124my\u001B[39m\u001B[38;5;124m\"\u001B[39m)\n\u001B[1;32m    200\u001B[0m \u001B[38;5;28;01mif\u001B[39;00m y_type \u001B[38;5;129;01mnot\u001B[39;00m \u001B[38;5;129;01min\u001B[39;00m [\n\u001B[1;32m    201\u001B[0m     \u001B[38;5;124m\"\u001B[39m\u001B[38;5;124mbinary\u001B[39m\u001B[38;5;124m\"\u001B[39m,\n\u001B[1;32m    202\u001B[0m     \u001B[38;5;124m\"\u001B[39m\u001B[38;5;124mmulticlass\u001B[39m\u001B[38;5;124m\"\u001B[39m,\n\u001B[0;32m   (...)\u001B[0m\n\u001B[1;32m    205\u001B[0m     \u001B[38;5;124m\"\u001B[39m\u001B[38;5;124mmultilabel-sequences\u001B[39m\u001B[38;5;124m\"\u001B[39m,\n\u001B[1;32m    206\u001B[0m ]:\n\u001B[0;32m--> 207\u001B[0m     \u001B[38;5;28;01mraise\u001B[39;00m \u001B[38;5;167;01mValueError\u001B[39;00m(\u001B[38;5;124m\"\u001B[39m\u001B[38;5;124mUnknown label type: \u001B[39m\u001B[38;5;132;01m%r\u001B[39;00m\u001B[38;5;124m\"\u001B[39m \u001B[38;5;241m%\u001B[39m y_type)\n",
      "\u001B[0;31mValueError\u001B[0m: Unknown label type: 'continuous-multioutput'"
     ]
    }
   ],
   "source": [],
   "metadata": {
    "collapsed": false,
    "ExecuteTime": {
     "end_time": "2023-07-20T11:14:40.231343Z",
     "start_time": "2023-07-20T11:14:40.157738Z"
    }
   }
  },
  {
   "cell_type": "code",
   "execution_count": null,
   "outputs": [],
   "source": [],
   "metadata": {
    "collapsed": false,
    "ExecuteTime": {
     "start_time": "2023-07-20T11:14:40.203824Z"
    }
   }
  }
 ],
 "metadata": {
  "kernelspec": {
   "display_name": "Python 3",
   "language": "python",
   "name": "python3"
  },
  "language_info": {
   "codemirror_mode": {
    "name": "ipython",
    "version": 2
   },
   "file_extension": ".py",
   "mimetype": "text/x-python",
   "name": "python",
   "nbconvert_exporter": "python",
   "pygments_lexer": "ipython2",
   "version": "2.7.6"
  }
 },
 "nbformat": 4,
 "nbformat_minor": 0
}
