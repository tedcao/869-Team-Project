{
 "cells": [
  {
   "cell_type": "code",
   "execution_count": 33,
   "metadata": {
    "collapsed": true,
    "ExecuteTime": {
     "end_time": "2023-06-29T11:50:53.297428Z",
     "start_time": "2023-06-29T11:50:53.033145Z"
    }
   },
   "outputs": [
    {
     "name": "stdout",
     "output_type": "stream",
     "text": [
      "2023-06-29 19:50:53.029716\n"
     ]
    }
   ],
   "source": [
    "import datetime\n",
    "print(datetime.datetime.now())"
   ]
  },
  {
   "cell_type": "code",
   "execution_count": 34,
   "outputs": [],
   "source": [
    "# Supress scikit-learn's deprecations warnings.\n",
    "\n",
    "import warnings\n",
    "warnings.filterwarnings(\"ignore\", category=DeprecationWarning)\n",
    "warnings.filterwarnings(\"ignore\", category=FutureWarning)"
   ],
   "metadata": {
    "collapsed": false,
    "ExecuteTime": {
     "end_time": "2023-06-29T11:50:53.400643Z",
     "start_time": "2023-06-29T11:50:53.043023Z"
    }
   }
  },
  {
   "cell_type": "code",
   "execution_count": 35,
   "outputs": [],
   "source": [
    "import pandas as pd\n",
    "import numpy as np\n",
    "\n",
    "import matplotlib.pyplot as plt\n",
    "from mpl_toolkits.mplot3d import Axes3D\n",
    "import seaborn as sns\n",
    "\n",
    "import itertools\n",
    "\n",
    "import scipy\n",
    "\n",
    "from IPython.core.interactiveshell import InteractiveShell\n",
    "InteractiveShell.ast_node_interactivity = \"all\""
   ],
   "metadata": {
    "collapsed": false,
    "ExecuteTime": {
     "end_time": "2023-06-29T11:50:53.401091Z",
     "start_time": "2023-06-29T11:50:53.050370Z"
    }
   }
  },
  {
   "cell_type": "markdown",
   "source": [
    "# Load Data"
   ],
   "metadata": {
    "collapsed": false
   }
  },
  {
   "cell_type": "code",
   "execution_count": 36,
   "outputs": [],
   "source": [
    "greeks = pd.read_csv(\"../icr-identify-age-related-conditions/greeks.csv\")\n",
    "test = pd.read_csv(\"../icr-identify-age-related-conditions/test.csv\")\n",
    "train = pd.read_csv(\"../icr-identify-age-related-conditions/train.csv\")"
   ],
   "metadata": {
    "collapsed": false,
    "ExecuteTime": {
     "end_time": "2023-06-29T11:50:53.406571Z",
     "start_time": "2023-06-29T11:50:53.080634Z"
    }
   }
  },
  {
   "cell_type": "markdown",
   "source": [
    "Alpha Identifies the type of age-related condition, if present.\n",
    "* A No age-related condition. Corresponds to class 0.\n",
    "* B, D, G The three age-related conditions. Correspond to class 1.\n",
    "Beta, Gamma, Delta Three experimental characteristics.\n",
    "\n",
    "Epsilon The date the data for this subject was collected. Note that all of the data in the test set was collected after the training set was collected."
   ],
   "metadata": {
    "collapsed": false
   }
  },
  {
   "cell_type": "code",
   "execution_count": 37,
   "outputs": [
    {
     "name": "stdout",
     "output_type": "stream",
     "text": [
      "<class 'pandas.core.frame.DataFrame'>\n",
      "RangeIndex: 617 entries, 0 to 616\n",
      "Data columns (total 6 columns):\n",
      " #   Column   Non-Null Count  Dtype \n",
      "---  ------   --------------  ----- \n",
      " 0   Id       617 non-null    object\n",
      " 1   Alpha    617 non-null    object\n",
      " 2   Beta     617 non-null    object\n",
      " 3   Gamma    617 non-null    object\n",
      " 4   Delta    617 non-null    object\n",
      " 5   Epsilon  617 non-null    object\n",
      "dtypes: object(6)\n",
      "memory usage: 29.0+ KB\n"
     ]
    },
    {
     "data": {
      "text/plain": "             Id Alpha Beta Gamma Delta    Epsilon\n0  000ff2bfdfe9     B    C     G     D  3/19/2019\n1  007255e47698     A    C     M     B    Unknown\n2  013f2bd269f5     A    C     M     B    Unknown\n3  043ac50845d5     A    C     M     B    Unknown\n4  044fb8a146ec     D    B     F     B  3/25/2020",
      "text/html": "<div>\n<style scoped>\n    .dataframe tbody tr th:only-of-type {\n        vertical-align: middle;\n    }\n\n    .dataframe tbody tr th {\n        vertical-align: top;\n    }\n\n    .dataframe thead th {\n        text-align: right;\n    }\n</style>\n<table border=\"1\" class=\"dataframe\">\n  <thead>\n    <tr style=\"text-align: right;\">\n      <th></th>\n      <th>Id</th>\n      <th>Alpha</th>\n      <th>Beta</th>\n      <th>Gamma</th>\n      <th>Delta</th>\n      <th>Epsilon</th>\n    </tr>\n  </thead>\n  <tbody>\n    <tr>\n      <th>0</th>\n      <td>000ff2bfdfe9</td>\n      <td>B</td>\n      <td>C</td>\n      <td>G</td>\n      <td>D</td>\n      <td>3/19/2019</td>\n    </tr>\n    <tr>\n      <th>1</th>\n      <td>007255e47698</td>\n      <td>A</td>\n      <td>C</td>\n      <td>M</td>\n      <td>B</td>\n      <td>Unknown</td>\n    </tr>\n    <tr>\n      <th>2</th>\n      <td>013f2bd269f5</td>\n      <td>A</td>\n      <td>C</td>\n      <td>M</td>\n      <td>B</td>\n      <td>Unknown</td>\n    </tr>\n    <tr>\n      <th>3</th>\n      <td>043ac50845d5</td>\n      <td>A</td>\n      <td>C</td>\n      <td>M</td>\n      <td>B</td>\n      <td>Unknown</td>\n    </tr>\n    <tr>\n      <th>4</th>\n      <td>044fb8a146ec</td>\n      <td>D</td>\n      <td>B</td>\n      <td>F</td>\n      <td>B</td>\n      <td>3/25/2020</td>\n    </tr>\n  </tbody>\n</table>\n</div>"
     },
     "execution_count": 37,
     "metadata": {},
     "output_type": "execute_result"
    }
   ],
   "source": [
    "greeks.info()\n",
    "greeks.head()"
   ],
   "metadata": {
    "collapsed": false,
    "ExecuteTime": {
     "end_time": "2023-06-29T11:50:53.407226Z",
     "start_time": "2023-06-29T11:50:53.115168Z"
    }
   }
  },
  {
   "cell_type": "markdown",
   "source": [
    "* Id Unique identifier for each observation.\n",
    "* AB-GL Fifty-six anonymized health characteristics. All are numeric except for EJ, which is categorical.\n",
    "* Class A binary target: 1 indicates the subject has been diagnosed with one of the three conditions, 0 indicates they have not."
   ],
   "metadata": {
    "collapsed": false
   }
  },
  {
   "cell_type": "code",
   "execution_count": 38,
   "outputs": [
    {
     "name": "stdout",
     "output_type": "stream",
     "text": [
      "<class 'pandas.core.frame.DataFrame'>\n",
      "RangeIndex: 617 entries, 0 to 616\n",
      "Data columns (total 58 columns):\n",
      " #   Column  Non-Null Count  Dtype  \n",
      "---  ------  --------------  -----  \n",
      " 0   Id      617 non-null    object \n",
      " 1   AB      617 non-null    float64\n",
      " 2   AF      617 non-null    float64\n",
      " 3   AH      617 non-null    float64\n",
      " 4   AM      617 non-null    float64\n",
      " 5   AR      617 non-null    float64\n",
      " 6   AX      617 non-null    float64\n",
      " 7   AY      617 non-null    float64\n",
      " 8   AZ      617 non-null    float64\n",
      " 9   BC      617 non-null    float64\n",
      " 10  BD      617 non-null    float64\n",
      " 11  BN      617 non-null    float64\n",
      " 12  BP      617 non-null    float64\n",
      " 13  BQ      557 non-null    float64\n",
      " 14  BR      617 non-null    float64\n",
      " 15  BZ      617 non-null    float64\n",
      " 16  CB      615 non-null    float64\n",
      " 17  CC      614 non-null    float64\n",
      " 18  CD      617 non-null    float64\n",
      " 19  CF      617 non-null    float64\n",
      " 20  CH      617 non-null    float64\n",
      " 21  CL      617 non-null    float64\n",
      " 22  CR      617 non-null    float64\n",
      " 23  CS      617 non-null    float64\n",
      " 24  CU      617 non-null    float64\n",
      " 25  CW      617 non-null    float64\n",
      " 26  DA      617 non-null    float64\n",
      " 27  DE      617 non-null    float64\n",
      " 28  DF      617 non-null    float64\n",
      " 29  DH      617 non-null    float64\n",
      " 30  DI      617 non-null    float64\n",
      " 31  DL      617 non-null    float64\n",
      " 32  DN      617 non-null    float64\n",
      " 33  DU      616 non-null    float64\n",
      " 34  DV      617 non-null    float64\n",
      " 35  DY      617 non-null    float64\n",
      " 36  EB      617 non-null    float64\n",
      " 37  EE      617 non-null    float64\n",
      " 38  EG      617 non-null    float64\n",
      " 39  EH      617 non-null    float64\n",
      " 40  EJ      617 non-null    object \n",
      " 41  EL      557 non-null    float64\n",
      " 42  EP      617 non-null    float64\n",
      " 43  EU      617 non-null    float64\n",
      " 44  FC      616 non-null    float64\n",
      " 45  FD      617 non-null    float64\n",
      " 46  FE      617 non-null    float64\n",
      " 47  FI      617 non-null    float64\n",
      " 48  FL      616 non-null    float64\n",
      " 49  FR      617 non-null    float64\n",
      " 50  FS      615 non-null    float64\n",
      " 51  GB      617 non-null    float64\n",
      " 52  GE      617 non-null    float64\n",
      " 53  GF      617 non-null    float64\n",
      " 54  GH      617 non-null    float64\n",
      " 55  GI      617 non-null    float64\n",
      " 56  GL      616 non-null    float64\n",
      " 57  Class   617 non-null    int64  \n",
      "dtypes: float64(55), int64(1), object(2)\n",
      "memory usage: 279.7+ KB\n"
     ]
    }
   ],
   "source": [
    "train.info()"
   ],
   "metadata": {
    "collapsed": false,
    "ExecuteTime": {
     "end_time": "2023-06-29T11:50:53.432753Z",
     "start_time": "2023-06-29T11:50:53.149547Z"
    }
   }
  },
  {
   "cell_type": "code",
   "execution_count": 39,
   "outputs": [
    {
     "data": {
      "text/plain": "             Id        AB          AF          AH         AM        AR  \\\n0  000ff2bfdfe9  0.209377  3109.03329   85.200147  22.394407  8.138688   \n1  007255e47698  0.145282   978.76416   85.200147  36.968889  8.138688   \n2  013f2bd269f5  0.470030  2635.10654   85.200147  32.360553  8.138688   \n3  043ac50845d5  0.252107  3819.65177  120.201618  77.112203  8.138688   \n4  044fb8a146ec  0.380297  3733.04844   85.200147  14.103738  8.138688   \n\n         AX        AY         AZ          BC  ...        FL        FR  \\\n0  0.699861  0.025578   9.812214    5.555634  ...  7.298162   1.73855   \n1  3.632190  0.025578  13.517790    1.229900  ...  0.173229   0.49706   \n2  6.732840  0.025578  12.824570    1.229900  ...  7.709560   0.97556   \n3  3.685344  0.025578  11.053708    1.229900  ...  6.122162   0.49706   \n4  3.942255  0.054810   3.396778  102.151980  ...  8.153058  48.50134   \n\n         FS         GB          GE            GF         GH         GI  \\\n0  0.094822  11.339138   72.611063   2003.810319  22.136229  69.834944   \n1  0.568932   9.292698   72.611063  27981.562750  29.135430  32.131996   \n2  1.198821  37.077772   88.609437  13676.957810  28.022851  35.192676   \n3  0.284466  18.529584   82.416803   2094.262452  39.948656  90.493248   \n4  0.121914  16.408728  146.109943   8524.370502  45.381316  36.262628   \n\n          GL  Class  \n0   0.120343      1  \n1  21.978000      0  \n2   0.196941      0  \n3   0.155829      0  \n4   0.096614      1  \n\n[5 rows x 58 columns]",
      "text/html": "<div>\n<style scoped>\n    .dataframe tbody tr th:only-of-type {\n        vertical-align: middle;\n    }\n\n    .dataframe tbody tr th {\n        vertical-align: top;\n    }\n\n    .dataframe thead th {\n        text-align: right;\n    }\n</style>\n<table border=\"1\" class=\"dataframe\">\n  <thead>\n    <tr style=\"text-align: right;\">\n      <th></th>\n      <th>Id</th>\n      <th>AB</th>\n      <th>AF</th>\n      <th>AH</th>\n      <th>AM</th>\n      <th>AR</th>\n      <th>AX</th>\n      <th>AY</th>\n      <th>AZ</th>\n      <th>BC</th>\n      <th>...</th>\n      <th>FL</th>\n      <th>FR</th>\n      <th>FS</th>\n      <th>GB</th>\n      <th>GE</th>\n      <th>GF</th>\n      <th>GH</th>\n      <th>GI</th>\n      <th>GL</th>\n      <th>Class</th>\n    </tr>\n  </thead>\n  <tbody>\n    <tr>\n      <th>0</th>\n      <td>000ff2bfdfe9</td>\n      <td>0.209377</td>\n      <td>3109.03329</td>\n      <td>85.200147</td>\n      <td>22.394407</td>\n      <td>8.138688</td>\n      <td>0.699861</td>\n      <td>0.025578</td>\n      <td>9.812214</td>\n      <td>5.555634</td>\n      <td>...</td>\n      <td>7.298162</td>\n      <td>1.73855</td>\n      <td>0.094822</td>\n      <td>11.339138</td>\n      <td>72.611063</td>\n      <td>2003.810319</td>\n      <td>22.136229</td>\n      <td>69.834944</td>\n      <td>0.120343</td>\n      <td>1</td>\n    </tr>\n    <tr>\n      <th>1</th>\n      <td>007255e47698</td>\n      <td>0.145282</td>\n      <td>978.76416</td>\n      <td>85.200147</td>\n      <td>36.968889</td>\n      <td>8.138688</td>\n      <td>3.632190</td>\n      <td>0.025578</td>\n      <td>13.517790</td>\n      <td>1.229900</td>\n      <td>...</td>\n      <td>0.173229</td>\n      <td>0.49706</td>\n      <td>0.568932</td>\n      <td>9.292698</td>\n      <td>72.611063</td>\n      <td>27981.562750</td>\n      <td>29.135430</td>\n      <td>32.131996</td>\n      <td>21.978000</td>\n      <td>0</td>\n    </tr>\n    <tr>\n      <th>2</th>\n      <td>013f2bd269f5</td>\n      <td>0.470030</td>\n      <td>2635.10654</td>\n      <td>85.200147</td>\n      <td>32.360553</td>\n      <td>8.138688</td>\n      <td>6.732840</td>\n      <td>0.025578</td>\n      <td>12.824570</td>\n      <td>1.229900</td>\n      <td>...</td>\n      <td>7.709560</td>\n      <td>0.97556</td>\n      <td>1.198821</td>\n      <td>37.077772</td>\n      <td>88.609437</td>\n      <td>13676.957810</td>\n      <td>28.022851</td>\n      <td>35.192676</td>\n      <td>0.196941</td>\n      <td>0</td>\n    </tr>\n    <tr>\n      <th>3</th>\n      <td>043ac50845d5</td>\n      <td>0.252107</td>\n      <td>3819.65177</td>\n      <td>120.201618</td>\n      <td>77.112203</td>\n      <td>8.138688</td>\n      <td>3.685344</td>\n      <td>0.025578</td>\n      <td>11.053708</td>\n      <td>1.229900</td>\n      <td>...</td>\n      <td>6.122162</td>\n      <td>0.49706</td>\n      <td>0.284466</td>\n      <td>18.529584</td>\n      <td>82.416803</td>\n      <td>2094.262452</td>\n      <td>39.948656</td>\n      <td>90.493248</td>\n      <td>0.155829</td>\n      <td>0</td>\n    </tr>\n    <tr>\n      <th>4</th>\n      <td>044fb8a146ec</td>\n      <td>0.380297</td>\n      <td>3733.04844</td>\n      <td>85.200147</td>\n      <td>14.103738</td>\n      <td>8.138688</td>\n      <td>3.942255</td>\n      <td>0.054810</td>\n      <td>3.396778</td>\n      <td>102.151980</td>\n      <td>...</td>\n      <td>8.153058</td>\n      <td>48.50134</td>\n      <td>0.121914</td>\n      <td>16.408728</td>\n      <td>146.109943</td>\n      <td>8524.370502</td>\n      <td>45.381316</td>\n      <td>36.262628</td>\n      <td>0.096614</td>\n      <td>1</td>\n    </tr>\n  </tbody>\n</table>\n<p>5 rows × 58 columns</p>\n</div>"
     },
     "execution_count": 39,
     "metadata": {},
     "output_type": "execute_result"
    }
   ],
   "source": [
    "train.head()"
   ],
   "metadata": {
    "collapsed": false,
    "ExecuteTime": {
     "end_time": "2023-06-29T11:50:53.433341Z",
     "start_time": "2023-06-29T11:50:53.169795Z"
    }
   }
  },
  {
   "cell_type": "code",
   "execution_count": 40,
   "outputs": [
    {
     "data": {
      "text/plain": "Id        0\nAB        0\nAF        0\nAH        0\nAM        0\nAR        0\nAX        0\nAY        0\nAZ        0\nBC        0\nBD        0\nBN        0\nBP        0\nBQ       60\nBR        0\nBZ        0\nCB        2\nCC        3\nCD        0\nCF        0\nCH        0\nCL        0\nCR        0\nCS        0\nCU        0\nCW        0\nDA        0\nDE        0\nDF        0\nDH        0\nDI        0\nDL        0\nDN        0\nDU        1\nDV        0\nDY        0\nEB        0\nEE        0\nEG        0\nEH        0\nEJ        0\nEL       60\nEP        0\nEU        0\nFC        1\nFD        0\nFE        0\nFI        0\nFL        1\nFR        0\nFS        2\nGB        0\nGE        0\nGF        0\nGH        0\nGI        0\nGL        1\nClass     0\ndtype: int64"
     },
     "execution_count": 40,
     "metadata": {},
     "output_type": "execute_result"
    }
   ],
   "source": [
    "#identify columns with NAs and the number of NAs\n",
    "train.isnull().sum()"
   ],
   "metadata": {
    "collapsed": false,
    "ExecuteTime": {
     "end_time": "2023-06-29T11:50:53.452164Z",
     "start_time": "2023-06-29T11:50:53.212469Z"
    }
   }
  },
  {
   "cell_type": "markdown",
   "source": [
    "## Find and remove outliers of health characteristics"
   ],
   "metadata": {
    "collapsed": false
   }
  },
  {
   "cell_type": "code",
   "execution_count": 41,
   "outputs": [
    {
     "name": "stdout",
     "output_type": "stream",
     "text": [
      "0.477149358184765\n",
      "The count of outliers are: 35\n",
      "3502.0132207455435\n",
      "The count of outliers are: 19\n",
      "118.62451267179904\n",
      "The count of outliers are: 70\n",
      "38.96855212965964\n",
      "The count of outliers are: 54\n",
      "10.12824205186386\n",
      "The count of outliers are: 133\n",
      "5.545576059967586\n",
      "The count of outliers are: 27\n",
      "0.06031962398703402\n",
      "The count of outliers are: 107\n",
      "10.566446961102107\n",
      "The count of outliers are: 14\n",
      "8.053011588330632\n",
      "The count of outliers are: 45\n",
      "21.419492382495946\n",
      "The count of outliers are: 14\n",
      "98.32873688509873\n",
      "The count of outliers are: 0\n",
      "1218.133237713128\n",
      "The count of outliers are: 47\n",
      "550.6325253525121\n",
      "The count of outliers are: 116\n",
      "77.10415084878048\n",
      "The count of outliers are: 0\n",
      "11.241063893030795\n",
      "The count of outliers are: 38\n",
      "0.030614714748784445\n",
      "The count of outliers are: 30\n",
      "1.4037610332252837\n",
      "The count of outliers are: 74\n",
      "0.7422616288492706\n",
      "The count of outliers are: 31\n",
      "36.91758957131281\n",
      "The count of outliers are: 31\n",
      "1.3837923598055106\n",
      "The count of outliers are: 21\n",
      "51.128325834683956\n",
      "The count of outliers are: 19\n",
      "401.90129933144243\n",
      "The count of outliers are: 38\n",
      "0.6338838136142626\n",
      "The count of outliers are: 137\n",
      "0.36700159157212314\n",
      "The count of outliers are: 19\n",
      "146.972099089141\n",
      "The count of outliers are: 35\n",
      "94.79537737439222\n",
      "The count of outliers are: 16\n",
      "26.37056827228525\n",
      "The count of outliers are: 15\n",
      "1.9248296515397079\n",
      "The count of outliers are: 38\n",
      "26.388989319286868\n",
      "The count of outliers are: 29\n",
      "9.072700162074554\n",
      "The count of outliers are: 21\n",
      "3.064778446515397\n",
      "The count of outliers are: 23\n",
      "1731.2482153152353\n",
      "The count of outliers are: 21\n",
      "0.3051071766612642\n",
      "The count of outliers are: 52\n",
      "105.06071236142625\n",
      "The count of outliers are: 45\n",
      "69.1170053095624\n",
      "The count of outliers are: 38\n",
      "10306.810737421394\n",
      "The count of outliers are: 55\n",
      "10.111078782009725\n",
      "The count of outliers are: 44\n",
      "3.533905218800648\n",
      "The count of outliers are: 15\n",
      "20.724856000000003\n",
      "The count of outliers are: 11\n",
      "131.71498653484605\n",
      "The count of outliers are: 79\n",
      "14679.595397902758\n",
      "The count of outliers are: 43\n",
      "31.48971634927066\n",
      "The count of outliers are: 12\n",
      "50.584436914100486\n",
      "The count of outliers are: 21\n"
     ]
    }
   ],
   "source": [
    "# Visualize the data in line chart\n",
    "feature_names = ['AB', 'AF', 'AH', 'AM', 'AR', 'AX', 'AY', 'AZ', 'BC', 'BN', 'BQ', 'BR', 'BZ', 'CB', 'CF', 'CH', 'CL', 'CR', 'CS', 'CU', 'DA', 'DE', 'DF', 'DH', 'DI', 'DL', 'DN', 'DV', 'DY', 'EB', 'EE', 'EG', 'EH', 'EP', 'EU', 'FE', 'FI', 'FR', 'GB', 'GE', 'GF', 'GH', 'GI']\n",
    "# feature_names = ['AB']\n",
    "\n",
    "def lineChart(feature_name):\n",
    "    feature_data = train[feature_name].to_numpy()\n",
    "    plt.plot(feature_data)\n",
    "    plt.show()\n",
    "\n",
    "# remove the outliers using IQR logic\n",
    "def removeOutliers(feature_data):\n",
    "    # print(feature_data)\n",
    "    mean = np.mean(feature_data)\n",
    "    print(mean)\n",
    "    q1, q3 = np.percentile(feature_data, [25, 75])\n",
    "    iqr = q3 - q1\n",
    "    lower_bound = q1 - (1.5 * iqr)\n",
    "    upper_bound = q3 + (1.5 * iqr)\n",
    "    outliers = [x for x in feature_data if x < lower_bound or x > upper_bound]\n",
    "    feature_data_replaced = [mean if x < lower_bound or x > upper_bound else x for x in feature_data]\n",
    "    print(\"The count of outliers are:\", len(outliers))\n",
    "    # print(\"The data with replaced outliers is:\", feature_data_replaced)\n",
    "    return feature_data_replaced\n",
    "\n",
    "for feature_name in feature_names:\n",
    "    # lineChart(feature_name)\n",
    "    feature_data = train[feature_name]\n",
    "    feature_data_new = removeOutliers(feature_data)\n",
    "    # print(len(feature_data), len(feature_data_new))\n",
    "    train[feature_name] = feature_data_new"
   ],
   "metadata": {
    "collapsed": false,
    "ExecuteTime": {
     "end_time": "2023-06-29T11:50:53.454260Z",
     "start_time": "2023-06-29T11:50:53.232409Z"
    }
   }
  }
 ],
 "metadata": {
  "kernelspec": {
   "display_name": "Python 3",
   "language": "python",
   "name": "python3"
  },
  "language_info": {
   "codemirror_mode": {
    "name": "ipython",
    "version": 2
   },
   "file_extension": ".py",
   "mimetype": "text/x-python",
   "name": "python",
   "nbconvert_exporter": "python",
   "pygments_lexer": "ipython2",
   "version": "2.7.6"
  }
 },
 "nbformat": 4,
 "nbformat_minor": 0
}
