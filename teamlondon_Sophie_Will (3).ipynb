{
 "cells": [
  {
   "cell_type": "code",
   "execution_count": 1,
   "metadata": {
    "_cell_guid": "b1076dfc-b9ad-4769-8c92-a6c4dae69d19",
    "_uuid": "8f2839f25d086af736a60e9eeb907d3b93b6e0e5",
    "execution": {
     "iopub.execute_input": "2023-06-30T01:48:18.996106Z",
     "iopub.status.busy": "2023-06-30T01:48:18.995621Z",
     "iopub.status.idle": "2023-06-30T01:48:19.005053Z",
     "shell.execute_reply": "2023-06-30T01:48:19.003554Z",
     "shell.execute_reply.started": "2023-06-30T01:48:18.996063Z"
    }
   },
   "outputs": [],
   "source": [
    "import pandas as pd\n",
    "from sklearn.ensemble import RandomForestClassifier\n",
    "from sklearn.model_selection import train_test_split, cross_val_score, GridSearchCV\n",
    "from sklearn.metrics import log_loss, confusion_matrix\n",
    "from sklearn.preprocessing import MinMaxScaler\n",
    "import numpy as np\n",
    "import matplotlib.pyplot as plt\n",
    "from mpl_toolkits.mplot3d import Axes3D\n",
    "import seaborn as sns\n",
    "import itertools\n",
    "import scipy\n",
    "from IPython.core.interactiveshell import InteractiveShell\n",
    "InteractiveShell.ast_node_interactivity = \"all\""
   ]
  },
  {
   "cell_type": "code",
   "execution_count": 2,
   "metadata": {
    "execution": {
     "iopub.execute_input": "2023-06-30T01:48:24.391775Z",
     "iopub.status.busy": "2023-06-30T01:48:24.391384Z",
     "iopub.status.idle": "2023-06-30T01:48:24.398262Z",
     "shell.execute_reply": "2023-06-30T01:48:24.397006Z",
     "shell.execute_reply.started": "2023-06-30T01:48:24.391746Z"
    }
   },
   "outputs": [],
   "source": [
    "# Supress scikit-learn's deprecations warnings.\n",
    "\n",
    "import warnings\n",
    "warnings.filterwarnings(\"ignore\", category=DeprecationWarning)\n",
    "warnings.filterwarnings(\"ignore\", category=FutureWarning)"
   ]
  },
  {
   "cell_type": "code",
   "execution_count": 3,
   "metadata": {
    "execution": {
     "iopub.execute_input": "2023-06-30T01:48:28.710289Z",
     "iopub.status.busy": "2023-06-30T01:48:28.709846Z",
     "iopub.status.idle": "2023-06-30T01:48:28.749621Z",
     "shell.execute_reply": "2023-06-30T01:48:28.748275Z",
     "shell.execute_reply.started": "2023-06-30T01:48:28.710256Z"
    }
   },
   "outputs": [],
   "source": [
    "greeks = pd.read_csv(\"greeks.csv\")\n",
    "test_data = pd.read_csv(\"test.csv\")\n",
    "train = pd.read_csv(\"train.csv\")\n",
    "train.columns = train.columns.str.replace(' ', '')\n",
    "test_data.columns = test_data.columns.str.replace(' ', '')\n",
    "greeks.columns = greeks.columns.str.replace(' ', '')"
   ]
  },
  {
   "cell_type": "code",
   "execution_count": 4,
   "metadata": {},
   "outputs": [],
   "source": [
    "data = pd.merge(train, greeks[['Id','Beta','Gamma','Delta']], on='Id', how='left')"
   ]
  },
  {
   "cell_type": "code",
   "execution_count": 5,
   "metadata": {},
   "outputs": [],
   "source": [
    "#Beta_dummies = pd.get_dummies(data['Beta'],prefix='Beta')\n",
    "#Gamma_dummies = pd.get_dummies(data['Gamma'],prefix='Gamma')\n",
    "#Delta_dummies = pd.get_dummies(data['Delta'],prefix='Delta')"
   ]
  },
  {
   "cell_type": "code",
   "execution_count": 6,
   "metadata": {
    "execution": {
     "iopub.execute_input": "2023-06-30T01:49:00.959051Z",
     "iopub.status.busy": "2023-06-30T01:49:00.958581Z",
     "iopub.status.idle": "2023-06-30T01:49:00.982526Z",
     "shell.execute_reply": "2023-06-30T01:49:00.981085Z",
     "shell.execute_reply.started": "2023-06-30T01:49:00.959013Z"
    }
   },
   "outputs": [
    {
     "name": "stdout",
     "output_type": "stream",
     "text": [
      "<class 'pandas.core.frame.DataFrame'>\n",
      "Int64Index: 617 entries, 0 to 616\n",
      "Data columns (total 61 columns):\n",
      " #   Column  Non-Null Count  Dtype  \n",
      "---  ------  --------------  -----  \n",
      " 0   Id      617 non-null    object \n",
      " 1   AB      617 non-null    float64\n",
      " 2   AF      617 non-null    float64\n",
      " 3   AH      617 non-null    float64\n",
      " 4   AM      617 non-null    float64\n",
      " 5   AR      617 non-null    float64\n",
      " 6   AX      617 non-null    float64\n",
      " 7   AY      617 non-null    float64\n",
      " 8   AZ      617 non-null    float64\n",
      " 9   BC      617 non-null    float64\n",
      " 10  BD      617 non-null    float64\n",
      " 11  BN      617 non-null    float64\n",
      " 12  BP      617 non-null    float64\n",
      " 13  BQ      557 non-null    float64\n",
      " 14  BR      617 non-null    float64\n",
      " 15  BZ      617 non-null    float64\n",
      " 16  CB      615 non-null    float64\n",
      " 17  CC      614 non-null    float64\n",
      " 18  CD      617 non-null    float64\n",
      " 19  CF      617 non-null    float64\n",
      " 20  CH      617 non-null    float64\n",
      " 21  CL      617 non-null    float64\n",
      " 22  CR      617 non-null    float64\n",
      " 23  CS      617 non-null    float64\n",
      " 24  CU      617 non-null    float64\n",
      " 25  CW      617 non-null    float64\n",
      " 26  DA      617 non-null    float64\n",
      " 27  DE      617 non-null    float64\n",
      " 28  DF      617 non-null    float64\n",
      " 29  DH      617 non-null    float64\n",
      " 30  DI      617 non-null    float64\n",
      " 31  DL      617 non-null    float64\n",
      " 32  DN      617 non-null    float64\n",
      " 33  DU      616 non-null    float64\n",
      " 34  DV      617 non-null    float64\n",
      " 35  DY      617 non-null    float64\n",
      " 36  EB      617 non-null    float64\n",
      " 37  EE      617 non-null    float64\n",
      " 38  EG      617 non-null    float64\n",
      " 39  EH      617 non-null    float64\n",
      " 40  EJ      617 non-null    object \n",
      " 41  EL      557 non-null    float64\n",
      " 42  EP      617 non-null    float64\n",
      " 43  EU      617 non-null    float64\n",
      " 44  FC      616 non-null    float64\n",
      " 45  FD      617 non-null    float64\n",
      " 46  FE      617 non-null    float64\n",
      " 47  FI      617 non-null    float64\n",
      " 48  FL      616 non-null    float64\n",
      " 49  FR      617 non-null    float64\n",
      " 50  FS      615 non-null    float64\n",
      " 51  GB      617 non-null    float64\n",
      " 52  GE      617 non-null    float64\n",
      " 53  GF      617 non-null    float64\n",
      " 54  GH      617 non-null    float64\n",
      " 55  GI      617 non-null    float64\n",
      " 56  GL      616 non-null    float64\n",
      " 57  Class   617 non-null    int64  \n",
      " 58  Beta    614 non-null    object \n",
      " 59  Gamma   614 non-null    object \n",
      " 60  Delta   614 non-null    object \n",
      "dtypes: float64(55), int64(1), object(5)\n",
      "memory usage: 298.9+ KB\n"
     ]
    }
   ],
   "source": [
    "data.info()"
   ]
  },
  {
   "cell_type": "code",
   "execution_count": 7,
   "metadata": {
    "execution": {
     "iopub.execute_input": "2023-06-30T01:49:50.165730Z",
     "iopub.status.busy": "2023-06-30T01:49:50.164531Z",
     "iopub.status.idle": "2023-06-30T01:49:50.241806Z",
     "shell.execute_reply": "2023-06-30T01:49:50.240286Z",
     "shell.execute_reply.started": "2023-06-30T01:49:50.165688Z"
    }
   },
   "outputs": [
    {
     "name": "stdout",
     "output_type": "stream",
     "text": [
      "0.47714935818476445\n",
      "The count of outliers are: 35\n",
      "3502.0132207455463\n",
      "The count of outliers are: 19\n",
      "118.62451267179958\n",
      "The count of outliers are: 70\n",
      "38.96855212965967\n",
      "The count of outliers are: 54\n",
      "10.128242051863856\n",
      "The count of outliers are: 133\n",
      "5.545576059967586\n",
      "The count of outliers are: 27\n",
      "0.06031962398703415\n",
      "The count of outliers are: 107\n",
      "10.566446961102116\n",
      "The count of outliers are: 14\n",
      "8.053011588330667\n",
      "The count of outliers are: 45\n",
      "21.419492382495925\n",
      "The count of outliers are: 14\n",
      "98.32873688509875\n",
      "The count of outliers are: 0\n",
      "1218.133237713126\n",
      "The count of outliers are: 47\n",
      "550.6325253525081\n",
      "The count of outliers are: 116\n",
      "77.10415084878039\n",
      "The count of outliers are: 0\n",
      "11.24106389303078\n",
      "The count of outliers are: 38\n",
      "0.03061471474878444\n",
      "The count of outliers are: 30\n",
      "1.4037610332252755\n",
      "The count of outliers are: 74\n",
      "0.7422616288492706\n",
      "The count of outliers are: 31\n",
      "36.91758957131283\n",
      "The count of outliers are: 31\n",
      "1.3837923598055106\n",
      "The count of outliers are: 21\n",
      "51.12832583468397\n",
      "The count of outliers are: 19\n",
      "401.90129933144294\n",
      "The count of outliers are: 38\n",
      "0.633883813614257\n",
      "The count of outliers are: 137\n",
      "0.36700159157212303\n",
      "The count of outliers are: 19\n",
      "146.97209908914098\n",
      "The count of outliers are: 35\n",
      "94.79537737439226\n",
      "The count of outliers are: 16\n",
      "26.370568272285258\n",
      "The count of outliers are: 15\n",
      "1.9248296515396992\n",
      "The count of outliers are: 38\n",
      "26.388989319286882\n",
      "The count of outliers are: 29\n",
      "9.072700162074536\n",
      "The count of outliers are: 21\n",
      "3.0647784465153953\n",
      "The count of outliers are: 23\n",
      "1731.2482153152348\n",
      "The count of outliers are: 21\n",
      "0.30510717666126297\n",
      "The count of outliers are: 52\n",
      "105.06071236142556\n",
      "The count of outliers are: 45\n",
      "69.11700530956242\n",
      "The count of outliers are: 38\n",
      "10306.810737421403\n",
      "The count of outliers are: 55\n",
      "10.111078782009718\n",
      "The count of outliers are: 44\n",
      "3.533905218800641\n",
      "The count of outliers are: 15\n",
      "20.724855999999992\n",
      "The count of outliers are: 11\n",
      "131.71498653484582\n",
      "The count of outliers are: 79\n",
      "14679.595397902745\n",
      "The count of outliers are: 43\n",
      "31.489716349270672\n",
      "The count of outliers are: 12\n",
      "50.584436914100436\n",
      "The count of outliers are: 21\n"
     ]
    }
   ],
   "source": [
    "# Visualize the data in line chart\n",
    "feature_names = ['AB', 'AF', 'AH', 'AM', 'AR', 'AX', 'AY', 'AZ', 'BC', 'BN', 'BQ', 'BR', 'BZ', 'CB', 'CF', 'CH', 'CL', 'CR', 'CS', 'CU', 'DA', 'DE', 'DF', 'DH', 'DI', 'DL', 'DN', 'DV', 'DY', 'EB', 'EE', 'EG', 'EH', 'EP', 'EU', 'FE', 'FI', 'FR', 'GB', 'GE', 'GF', 'GH', 'GI']\n",
    "# feature_names = ['AB']\n",
    "\n",
    "def lineChart(feature_name):\n",
    "    feature_data = data[feature_name].to_numpy()\n",
    "    plt.plot(feature_data)\n",
    "    plt.show()\n",
    "\n",
    "# remove the outliers using IQR logic\n",
    "def removeOutliers(feature_data):\n",
    "    # print(feature_data)\n",
    "    mean = np.mean(feature_data)\n",
    "    print(mean)\n",
    "    q1, q3 = np.percentile(feature_data, [25, 75])\n",
    "    iqr = q3 - q1\n",
    "    lower_bound = q1 - (1.5 * iqr)\n",
    "    upper_bound = q3 + (1.5 * iqr)\n",
    "    outliers = [x for x in feature_data if x < lower_bound or x > upper_bound]\n",
    "    feature_data_replaced = [mean if x < lower_bound or x > upper_bound else x for x in feature_data]\n",
    "    print(\"The count of outliers are:\", len(outliers))\n",
    "    # print(\"The data with replaced outliers is:\", feature_data_replaced)\n",
    "    return feature_data_replaced\n",
    "\n",
    "for feature_name in feature_names:\n",
    "    # lineChart(feature_name)\n",
    "    feature_data = data[feature_name]\n",
    "    feature_data_new = removeOutliers(feature_data)\n",
    "    # print(len(feature_data), len(feature_data_new))\n",
    "    data[feature_name] = feature_data_new"
   ]
  },
  {
   "cell_type": "code",
   "execution_count": 8,
   "metadata": {
    "execution": {
     "iopub.execute_input": "2023-06-30T01:50:06.264653Z",
     "iopub.status.busy": "2023-06-30T01:50:06.264093Z",
     "iopub.status.idle": "2023-06-30T01:50:06.291402Z",
     "shell.execute_reply": "2023-06-30T01:50:06.289452Z",
     "shell.execute_reply.started": "2023-06-30T01:50:06.264609Z"
    }
   },
   "outputs": [
    {
     "data": {
      "text/plain": [
       "Id       0\n",
       "AB       0\n",
       "AF       0\n",
       "AH       0\n",
       "AM       0\n",
       "        ..\n",
       "GL       1\n",
       "Class    0\n",
       "Beta     3\n",
       "Gamma    3\n",
       "Delta    3\n",
       "Length: 61, dtype: int64"
      ]
     },
     "execution_count": 8,
     "metadata": {},
     "output_type": "execute_result"
    }
   ],
   "source": [
    "#identify columns with NAs and the number of NAs\n",
    "data.isnull().sum()"
   ]
  },
  {
   "cell_type": "code",
   "execution_count": 9,
   "metadata": {
    "execution": {
     "iopub.execute_input": "2023-06-30T01:50:13.443693Z",
     "iopub.status.busy": "2023-06-30T01:50:13.443225Z",
     "iopub.status.idle": "2023-06-30T01:50:13.450487Z",
     "shell.execute_reply": "2023-06-30T01:50:13.448867Z",
     "shell.execute_reply.started": "2023-06-30T01:50:13.443657Z"
    }
   },
   "outputs": [],
   "source": [
    "# Select the features and target\n",
    "features = [column for column in data.columns if column not in ['Id', 'Class']]\n",
    "target = 'Class'"
   ]
  },
  {
   "cell_type": "code",
   "execution_count": 10,
   "metadata": {
    "execution": {
     "iopub.execute_input": "2023-06-30T01:50:15.756933Z",
     "iopub.status.busy": "2023-06-30T01:50:15.756458Z",
     "iopub.status.idle": "2023-06-30T01:50:15.773765Z",
     "shell.execute_reply": "2023-06-30T01:50:15.772356Z",
     "shell.execute_reply.started": "2023-06-30T01:50:15.756897Z"
    }
   },
   "outputs": [],
   "source": [
    "# Prepare the data - encode, remove inf, -inf and fill NaNs\n",
    "for column in data.columns:\n",
    "    if data[column].dtype == 'object':\n",
    "        data[column] = data[column].astype('category').cat.codes"
   ]
  },
  {
   "cell_type": "code",
   "execution_count": 11,
   "metadata": {
    "execution": {
     "iopub.execute_input": "2023-06-30T01:50:18.063072Z",
     "iopub.status.busy": "2023-06-30T01:50:18.062575Z",
     "iopub.status.idle": "2023-06-30T01:50:18.123262Z",
     "shell.execute_reply": "2023-06-30T01:50:18.122339Z",
     "shell.execute_reply.started": "2023-06-30T01:50:18.063033Z"
    }
   },
   "outputs": [],
   "source": [
    "for column in features:\n",
    "    data[column] = data[column].replace([np.inf, -np.inf], np.nan)\n",
    "    data[column] = data[column].fillna(data[column].median())"
   ]
  },
  {
   "cell_type": "code",
   "execution_count": 12,
   "metadata": {
    "execution": {
     "iopub.execute_input": "2023-06-30T01:50:21.789513Z",
     "iopub.status.busy": "2023-06-30T01:50:21.788387Z",
     "iopub.status.idle": "2023-06-30T01:50:22.220837Z",
     "shell.execute_reply": "2023-06-30T01:50:22.219732Z",
     "shell.execute_reply.started": "2023-06-30T01:50:21.789479Z"
    }
   },
   "outputs": [
    {
     "data": {
      "text/plain": [
       "RandomForestClassifier(random_state=42)"
      ]
     },
     "execution_count": 12,
     "metadata": {},
     "output_type": "execute_result"
    }
   ],
   "source": [
    "# Use Random Forest to get feature importances\n",
    "rf = RandomForestClassifier(random_state=42)\n",
    "rf.fit(data[features], data[target])"
   ]
  },
  {
   "cell_type": "code",
   "execution_count": 13,
   "metadata": {
    "execution": {
     "iopub.execute_input": "2023-06-30T01:52:26.856159Z",
     "iopub.status.busy": "2023-06-30T01:52:26.855541Z",
     "iopub.status.idle": "2023-06-30T01:52:26.891210Z",
     "shell.execute_reply": "2023-06-30T01:52:26.889915Z",
     "shell.execute_reply.started": "2023-06-30T01:52:26.856110Z"
    }
   },
   "outputs": [],
   "source": [
    "# Get feature importances\n",
    "importances = rf.feature_importances_\n",
    "\n",
    "# Create a DataFrame for visualization\n",
    "feature_importances = pd.DataFrame({'Feature': features, 'Importance': importances})\n",
    "feature_importances = feature_importances.sort_values('Importance', ascending=False)"
   ]
  },
  {
   "cell_type": "code",
   "execution_count": 14,
   "metadata": {
    "execution": {
     "iopub.execute_input": "2023-06-30T01:52:47.538485Z",
     "iopub.status.busy": "2023-06-30T01:52:47.537504Z",
     "iopub.status.idle": "2023-06-30T01:52:47.544761Z",
     "shell.execute_reply": "2023-06-30T01:52:47.543152Z",
     "shell.execute_reply.started": "2023-06-30T01:52:47.538439Z"
    }
   },
   "outputs": [
    {
     "data": {
      "text/plain": [
       "57    Gamma\n",
       "32       DU\n",
       "21       CR\n",
       "47       FL\n",
       "25       DA\n",
       "55       GL\n",
       "44       FD\n",
       "26       DE\n",
       "12       BQ\n",
       "36       EE\n",
       "Name: Feature, dtype: object"
      ]
     },
     "execution_count": 14,
     "metadata": {},
     "output_type": "execute_result"
    }
   ],
   "source": [
    "# Select top features\n",
    "top_features = feature_importances['Feature'][:10]\n",
    "top_features"
   ]
  },
  {
   "cell_type": "code",
   "execution_count": 15,
   "metadata": {},
   "outputs": [
    {
     "data": {
      "text/plain": [
       "RandomForestClassifier(random_state=42)"
      ]
     },
     "execution_count": 15,
     "metadata": {},
     "output_type": "execute_result"
    },
    {
     "data": {
      "text/plain": [
       "32    DU\n",
       "47    FL\n",
       "55    GL\n",
       "23    CU\n",
       "21    CR\n",
       "10    BN\n",
       "44    FD\n",
       "38    EH\n",
       "12    BQ\n",
       "25    DA\n",
       "Name: Feature, dtype: object"
      ]
     },
     "execution_count": 15,
     "metadata": {},
     "output_type": "execute_result"
    }
   ],
   "source": [
    "# Select the features and target\n",
    "features = [column for column in data.columns if column not in ['Id', 'Class','Gamma']]\n",
    "target = 'Gamma'\n",
    "\n",
    "for column in data.columns:\n",
    "    if data[column].dtype == 'object':\n",
    "        data[column] = data[column].astype('category').cat.codes\n",
    "\n",
    "for column in features:\n",
    "    data[column] = data[column].replace([np.inf, -np.inf], np.nan)\n",
    "    data[column] = data[column].fillna(data[column].median())\n",
    "\n",
    "rf = RandomForestClassifier(random_state=42)\n",
    "rf.fit(data[features], data[target])\n",
    "\n",
    "# Get feature importances\n",
    "importances = rf.feature_importances_\n",
    "\n",
    "# Create a DataFrame for visualization\n",
    "feature_importances = pd.DataFrame({'Feature': features, 'Importance': importances})\n",
    "feature_importances = feature_importances.sort_values('Importance', ascending=False)\n",
    "\n",
    "# Select top features\n",
    "Gamma_top_features = feature_importances['Feature'][:10]\n",
    "Gamma_top_features"
   ]
  },
  {
   "cell_type": "code",
   "execution_count": 16,
   "metadata": {},
   "outputs": [
    {
     "data": {
      "text/html": [
       "<div>\n",
       "<style scoped>\n",
       "    .dataframe tbody tr th:only-of-type {\n",
       "        vertical-align: middle;\n",
       "    }\n",
       "\n",
       "    .dataframe tbody tr th {\n",
       "        vertical-align: top;\n",
       "    }\n",
       "\n",
       "    .dataframe thead th {\n",
       "        text-align: right;\n",
       "    }\n",
       "</style>\n",
       "<table border=\"1\" class=\"dataframe\">\n",
       "  <thead>\n",
       "    <tr style=\"text-align: right;\">\n",
       "      <th></th>\n",
       "      <th>DU</th>\n",
       "      <th>CR</th>\n",
       "      <th>FL</th>\n",
       "      <th>DA</th>\n",
       "      <th>GL</th>\n",
       "      <th>FD</th>\n",
       "      <th>DE</th>\n",
       "      <th>BQ</th>\n",
       "      <th>EE</th>\n",
       "      <th>CU</th>\n",
       "      <th>BN</th>\n",
       "      <th>EH</th>\n",
       "    </tr>\n",
       "  </thead>\n",
       "  <tbody>\n",
       "    <tr>\n",
       "      <th>0</th>\n",
       "      <td>5.310690</td>\n",
       "      <td>0.742262</td>\n",
       "      <td>7.298162</td>\n",
       "      <td>69.083400</td>\n",
       "      <td>0.120343</td>\n",
       "      <td>10.265073</td>\n",
       "      <td>295.570575</td>\n",
       "      <td>152.707705</td>\n",
       "      <td>1.987283</td>\n",
       "      <td>1.302012</td>\n",
       "      <td>22.5984</td>\n",
       "      <td>0.305107</td>\n",
       "    </tr>\n",
       "    <tr>\n",
       "      <th>1</th>\n",
       "      <td>0.005518</td>\n",
       "      <td>1.117800</td>\n",
       "      <td>0.173229</td>\n",
       "      <td>70.798360</td>\n",
       "      <td>21.978000</td>\n",
       "      <td>0.296850</td>\n",
       "      <td>178.553100</td>\n",
       "      <td>14.754720</td>\n",
       "      <td>0.858603</td>\n",
       "      <td>1.357182</td>\n",
       "      <td>19.4205</td>\n",
       "      <td>0.003042</td>\n",
       "    </tr>\n",
       "    <tr>\n",
       "      <th>2</th>\n",
       "      <td>1.289739</td>\n",
       "      <td>0.700350</td>\n",
       "      <td>7.709560</td>\n",
       "      <td>70.819700</td>\n",
       "      <td>0.196941</td>\n",
       "      <td>8.745201</td>\n",
       "      <td>321.426625</td>\n",
       "      <td>219.320160</td>\n",
       "      <td>3.064778</td>\n",
       "      <td>1.009611</td>\n",
       "      <td>26.4825</td>\n",
       "      <td>0.377208</td>\n",
       "    </tr>\n",
       "    <tr>\n",
       "      <th>3</th>\n",
       "      <td>2.655345</td>\n",
       "      <td>0.636075</td>\n",
       "      <td>6.122162</td>\n",
       "      <td>47.275860</td>\n",
       "      <td>0.155829</td>\n",
       "      <td>7.884336</td>\n",
       "      <td>196.607985</td>\n",
       "      <td>11.050410</td>\n",
       "      <td>3.813326</td>\n",
       "      <td>0.722727</td>\n",
       "      <td>23.6577</td>\n",
       "      <td>0.305107</td>\n",
       "    </tr>\n",
       "    <tr>\n",
       "      <th>4</th>\n",
       "      <td>1.144902</td>\n",
       "      <td>0.693150</td>\n",
       "      <td>8.153058</td>\n",
       "      <td>74.065320</td>\n",
       "      <td>0.096614</td>\n",
       "      <td>4.274640</td>\n",
       "      <td>200.178160</td>\n",
       "      <td>149.717165</td>\n",
       "      <td>3.490846</td>\n",
       "      <td>0.827550</td>\n",
       "      <td>24.0108</td>\n",
       "      <td>0.164268</td>\n",
       "    </tr>\n",
       "    <tr>\n",
       "      <th>...</th>\n",
       "      <td>...</td>\n",
       "      <td>...</td>\n",
       "      <td>...</td>\n",
       "      <td>...</td>\n",
       "      <td>...</td>\n",
       "      <td>...</td>\n",
       "      <td>...</td>\n",
       "      <td>...</td>\n",
       "      <td>...</td>\n",
       "      <td>...</td>\n",
       "      <td>...</td>\n",
       "      <td>...</td>\n",
       "    </tr>\n",
       "    <tr>\n",
       "      <th>612</th>\n",
       "      <td>0.005518</td>\n",
       "      <td>0.698250</td>\n",
       "      <td>0.173229</td>\n",
       "      <td>21.759040</td>\n",
       "      <td>21.978000</td>\n",
       "      <td>0.296850</td>\n",
       "      <td>355.930925</td>\n",
       "      <td>27.287375</td>\n",
       "      <td>1.354416</td>\n",
       "      <td>1.070298</td>\n",
       "      <td>21.1860</td>\n",
       "      <td>0.003042</td>\n",
       "    </tr>\n",
       "    <tr>\n",
       "      <th>613</th>\n",
       "      <td>0.648318</td>\n",
       "      <td>0.761025</td>\n",
       "      <td>10.223150</td>\n",
       "      <td>43.909960</td>\n",
       "      <td>0.145340</td>\n",
       "      <td>6.067614</td>\n",
       "      <td>157.393715</td>\n",
       "      <td>344.644105</td>\n",
       "      <td>0.753797</td>\n",
       "      <td>2.146113</td>\n",
       "      <td>27.1887</td>\n",
       "      <td>0.139932</td>\n",
       "    </tr>\n",
       "    <tr>\n",
       "      <th>614</th>\n",
       "      <td>0.005518</td>\n",
       "      <td>0.879825</td>\n",
       "      <td>0.173229</td>\n",
       "      <td>51.128326</td>\n",
       "      <td>21.978000</td>\n",
       "      <td>0.296850</td>\n",
       "      <td>223.209115</td>\n",
       "      <td>103.988995</td>\n",
       "      <td>2.225112</td>\n",
       "      <td>1.489590</td>\n",
       "      <td>20.4798</td>\n",
       "      <td>0.003042</td>\n",
       "    </tr>\n",
       "    <tr>\n",
       "      <th>615</th>\n",
       "      <td>0.510378</td>\n",
       "      <td>0.583125</td>\n",
       "      <td>9.256996</td>\n",
       "      <td>51.041400</td>\n",
       "      <td>0.184622</td>\n",
       "      <td>6.192291</td>\n",
       "      <td>112.196630</td>\n",
       "      <td>61.642115</td>\n",
       "      <td>1.628524</td>\n",
       "      <td>1.428903</td>\n",
       "      <td>19.0674</td>\n",
       "      <td>0.139932</td>\n",
       "    </tr>\n",
       "    <tr>\n",
       "      <th>616</th>\n",
       "      <td>0.005518</td>\n",
       "      <td>0.742262</td>\n",
       "      <td>0.173229</td>\n",
       "      <td>35.727040</td>\n",
       "      <td>21.978000</td>\n",
       "      <td>0.296850</td>\n",
       "      <td>889.496905</td>\n",
       "      <td>6.090490</td>\n",
       "      <td>2.374259</td>\n",
       "      <td>0.915822</td>\n",
       "      <td>21.1860</td>\n",
       "      <td>0.003042</td>\n",
       "    </tr>\n",
       "  </tbody>\n",
       "</table>\n",
       "<p>617 rows × 12 columns</p>\n",
       "</div>"
      ],
      "text/plain": [
       "           DU        CR         FL         DA         GL         FD  \\\n",
       "0    5.310690  0.742262   7.298162  69.083400   0.120343  10.265073   \n",
       "1    0.005518  1.117800   0.173229  70.798360  21.978000   0.296850   \n",
       "2    1.289739  0.700350   7.709560  70.819700   0.196941   8.745201   \n",
       "3    2.655345  0.636075   6.122162  47.275860   0.155829   7.884336   \n",
       "4    1.144902  0.693150   8.153058  74.065320   0.096614   4.274640   \n",
       "..        ...       ...        ...        ...        ...        ...   \n",
       "612  0.005518  0.698250   0.173229  21.759040  21.978000   0.296850   \n",
       "613  0.648318  0.761025  10.223150  43.909960   0.145340   6.067614   \n",
       "614  0.005518  0.879825   0.173229  51.128326  21.978000   0.296850   \n",
       "615  0.510378  0.583125   9.256996  51.041400   0.184622   6.192291   \n",
       "616  0.005518  0.742262   0.173229  35.727040  21.978000   0.296850   \n",
       "\n",
       "             DE          BQ        EE        CU       BN        EH  \n",
       "0    295.570575  152.707705  1.987283  1.302012  22.5984  0.305107  \n",
       "1    178.553100   14.754720  0.858603  1.357182  19.4205  0.003042  \n",
       "2    321.426625  219.320160  3.064778  1.009611  26.4825  0.377208  \n",
       "3    196.607985   11.050410  3.813326  0.722727  23.6577  0.305107  \n",
       "4    200.178160  149.717165  3.490846  0.827550  24.0108  0.164268  \n",
       "..          ...         ...       ...       ...      ...       ...  \n",
       "612  355.930925   27.287375  1.354416  1.070298  21.1860  0.003042  \n",
       "613  157.393715  344.644105  0.753797  2.146113  27.1887  0.139932  \n",
       "614  223.209115  103.988995  2.225112  1.489590  20.4798  0.003042  \n",
       "615  112.196630   61.642115  1.628524  1.428903  19.0674  0.139932  \n",
       "616  889.496905    6.090490  2.374259  0.915822  21.1860  0.003042  \n",
       "\n",
       "[617 rows x 12 columns]"
      ]
     },
     "execution_count": 16,
     "metadata": {},
     "output_type": "execute_result"
    }
   ],
   "source": [
    "features = pd.concat([data[top_features[1:]],data[Gamma_top_features]],axis=1)\n",
    "features = features.T.drop_duplicates().T\n",
    "features"
   ]
  },
  {
   "cell_type": "code",
   "execution_count": 17,
   "metadata": {
    "execution": {
     "iopub.execute_input": "2023-06-30T01:52:52.476903Z",
     "iopub.status.busy": "2023-06-30T01:52:52.476420Z",
     "iopub.status.idle": "2023-06-30T01:52:52.490043Z",
     "shell.execute_reply": "2023-06-30T01:52:52.488612Z",
     "shell.execute_reply.started": "2023-06-30T01:52:52.476866Z"
    }
   },
   "outputs": [],
   "source": [
    "# Train/Test Split\n",
    "X = features\n",
    "y = data['Class']\n",
    "X_train, X_test, y_train, y_test = train_test_split(X, y, test_size=0.3, random_state=42)"
   ]
  },
  {
   "cell_type": "code",
   "execution_count": 18,
   "metadata": {
    "execution": {
     "iopub.execute_input": "2023-06-30T01:52:54.960783Z",
     "iopub.status.busy": "2023-06-30T01:52:54.960334Z",
     "iopub.status.idle": "2023-06-30T01:52:54.974953Z",
     "shell.execute_reply": "2023-06-30T01:52:54.973568Z",
     "shell.execute_reply.started": "2023-06-30T01:52:54.960750Z"
    }
   },
   "outputs": [],
   "source": [
    "# Scaling\n",
    "scaler = MinMaxScaler()\n",
    "X_train_scaled = scaler.fit_transform(X_train)\n",
    "X_test_scaled = scaler.transform(X_test)"
   ]
  },
  {
   "cell_type": "code",
   "execution_count": 19,
   "metadata": {},
   "outputs": [
    {
     "data": {
      "text/plain": [
       "GridSearchCV(cv=5, estimator=RandomForestClassifier(random_state=42), n_jobs=-1,\n",
       "             param_grid={'max_depth': [1, 2, 3, 4, 5, 10, 15],\n",
       "                         'min_samples_leaf': [1, 2, 3, 4, 5, 6, 7],\n",
       "                         'n_estimators': [50, 100, 200, 300]})"
      ]
     },
     "execution_count": 19,
     "metadata": {},
     "output_type": "execute_result"
    },
    {
     "name": "stdout",
     "output_type": "stream",
     "text": [
      "Initial score:  0.8978882651697406\n",
      "Initial parameters:  {'max_depth': 10, 'min_samples_leaf': 3, 'n_estimators': 100}\n"
     ]
    }
   ],
   "source": [
    "param_grid = {\n",
    "    'max_depth': [1, 2, 3, 4, 5, 10, 15],\n",
    "    'n_estimators': [50,100,200,300],\n",
    "    'min_samples_leaf': [1,2,3,4,5,6,7],\n",
    "}\n",
    "gridSearch = GridSearchCV(RandomForestClassifier(random_state=42), param_grid, cv=5, n_jobs=-1)\n",
    "gridSearch.fit(X_train_scaled, y_train)\n",
    "print('Initial score: ', gridSearch.best_score_)\n",
    "print('Initial parameters: ', gridSearch.best_params_)\n",
    "\n",
    "bestRFC = gridSearch.best_estimator_"
   ]
  },
  {
   "cell_type": "code",
   "execution_count": 20,
   "metadata": {
    "execution": {
     "iopub.execute_input": "2023-06-30T01:52:58.752726Z",
     "iopub.status.busy": "2023-06-30T01:52:58.752315Z",
     "iopub.status.idle": "2023-06-30T01:53:01.831138Z",
     "shell.execute_reply": "2023-06-30T01:53:01.829670Z",
     "shell.execute_reply.started": "2023-06-30T01:52:58.752696Z"
    }
   },
   "outputs": [
    {
     "name": "stdout",
     "output_type": "stream",
     "text": [
      "Log Loss scores for each fold: [0.23715239 0.21253797 0.31581365 0.25946048 0.26699338]\n",
      "Average Log Loss: 0.2583915748113523\n"
     ]
    }
   ],
   "source": [
    "# Model Definition with RandomForest and Cross-validation\n",
    "rf_model = RandomForestClassifier(n_estimators=100, max_depth=10, min_samples_leaf=3, random_state=42)\n",
    "scores = cross_val_score(rf_model, X_train_scaled, y_train, cv=5, scoring='neg_log_loss')\n",
    "log_loss_scores = -scores\n",
    "print(f'Log Loss scores for each fold: {log_loss_scores}')\n",
    "average_log_loss = np.mean(log_loss_scores)\n",
    "print(f'Average Log Loss: {average_log_loss}')"
   ]
  },
  {
   "cell_type": "code",
   "execution_count": 21,
   "metadata": {
    "execution": {
     "iopub.execute_input": "2023-06-30T01:53:07.471460Z",
     "iopub.status.busy": "2023-06-30T01:53:07.471077Z",
     "iopub.status.idle": "2023-06-30T01:53:08.109029Z",
     "shell.execute_reply": "2023-06-30T01:53:08.107664Z",
     "shell.execute_reply.started": "2023-06-30T01:53:07.471433Z"
    }
   },
   "outputs": [
    {
     "data": {
      "text/plain": [
       "RandomForestClassifier(max_depth=10, min_samples_leaf=3, random_state=42)"
      ]
     },
     "execution_count": 21,
     "metadata": {},
     "output_type": "execute_result"
    }
   ],
   "source": [
    "# Fit the model with the training data\n",
    "rf_model.fit(X_train_scaled, y_train)"
   ]
  },
  {
   "cell_type": "code",
   "execution_count": 22,
   "metadata": {
    "execution": {
     "iopub.execute_input": "2023-06-30T01:53:10.606566Z",
     "iopub.status.busy": "2023-06-30T01:53:10.606141Z",
     "iopub.status.idle": "2023-06-30T01:53:10.643589Z",
     "shell.execute_reply": "2023-06-30T01:53:10.642209Z",
     "shell.execute_reply.started": "2023-06-30T01:53:10.606532Z"
    }
   },
   "outputs": [],
   "source": [
    "# Prepare the test data\n",
    "test_data_clean = test_data[features.columns]\n",
    "test_data_clean = test_data_clean.replace([np.inf, -np.inf], np.nan)\n",
    "test_data_clean.fillna(test_data_clean.median(numeric_only=True), inplace=True)\n",
    "test_data_scaled = scaler.transform(test_data_clean)"
   ]
  },
  {
   "cell_type": "code",
   "execution_count": 23,
   "metadata": {
    "execution": {
     "iopub.execute_input": "2023-06-30T01:53:12.743502Z",
     "iopub.status.busy": "2023-06-30T01:53:12.743047Z",
     "iopub.status.idle": "2023-06-30T01:53:12.775837Z",
     "shell.execute_reply": "2023-06-30T01:53:12.774546Z",
     "shell.execute_reply.started": "2023-06-30T01:53:12.743469Z"
    }
   },
   "outputs": [],
   "source": [
    "# Predictions using the fitted model\n",
    "test_preds = rf_model.predict_proba(test_data_scaled)"
   ]
  },
  {
   "cell_type": "code",
   "execution_count": 24,
   "metadata": {
    "execution": {
     "iopub.execute_input": "2023-06-30T01:53:17.824038Z",
     "iopub.status.busy": "2023-06-30T01:53:17.822835Z",
     "iopub.status.idle": "2023-06-30T01:53:17.835263Z",
     "shell.execute_reply": "2023-06-30T01:53:17.833796Z",
     "shell.execute_reply.started": "2023-06-30T01:53:17.823985Z"
    }
   },
   "outputs": [],
   "source": [
    "# Create a submission file\n",
    "submission = pd.DataFrame(test_data['Id'], columns=['Id'])\n",
    "submission[['class_0', 'class_1']] = test_preds\n",
    "submission.to_csv('submission.csv', index=False)"
   ]
  },
  {
   "cell_type": "code",
   "execution_count": null,
   "metadata": {},
   "outputs": [],
   "source": []
  }
 ],
 "metadata": {
  "kernelspec": {
   "display_name": "Python 3 (ipykernel)",
   "language": "python",
   "name": "python3"
  },
  "language_info": {
   "codemirror_mode": {
    "name": "ipython",
    "version": 3
   },
   "file_extension": ".py",
   "mimetype": "text/x-python",
   "name": "python",
   "nbconvert_exporter": "python",
   "pygments_lexer": "ipython3",
   "version": "3.9.13"
  }
 },
 "nbformat": 4,
 "nbformat_minor": 4
}
