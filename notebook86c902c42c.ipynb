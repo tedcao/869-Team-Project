{
 "metadata": {
  "kernelspec": {
   "language": "python",
   "display_name": "Python 3",
   "name": "python3"
  },
  "language_info": {
   "pygments_lexer": "ipython3",
   "nbconvert_exporter": "python",
   "version": "3.6.4",
   "file_extension": ".py",
   "codemirror_mode": {
    "name": "ipython",
    "version": 3
   },
   "name": "python",
   "mimetype": "text/x-python"
  }
 },
 "nbformat_minor": 4,
 "nbformat": 4,
 "cells": [
  {
   "cell_type": "code",
   "source": [
    "import pandas as pd\n",
    "from sklearn.ensemble import RandomForestClassifier\n",
    "from sklearn.model_selection import train_test_split, cross_val_score, GridSearchCV\n",
    "from sklearn.metrics import log_loss, confusion_matrix, accuracy_score\n",
    "from sklearn.preprocessing import MinMaxScaler, StandardScaler\n",
    "import numpy as np\n",
    "import matplotlib.pyplot as plt\n",
    "from mpl_toolkits.mplot3d import Axes3D\n",
    "import seaborn as sns\n",
    "import itertools\n",
    "import scipy\n",
    "from IPython.core.interactiveshell import InteractiveShell\n",
    "InteractiveShell.ast_node_interactivity = \"all\""
   ],
   "metadata": {
    "execution": {
     "iopub.status.busy": "2023-07-15T16:46:43.939374Z",
     "iopub.execute_input": "2023-07-15T16:46:43.940866Z",
     "iopub.status.idle": "2023-07-15T16:46:43.950510Z",
     "shell.execute_reply.started": "2023-07-15T16:46:43.940781Z",
     "shell.execute_reply": "2023-07-15T16:46:43.948951Z"
    },
    "trusted": true
   },
   "execution_count": null,
   "outputs": []
  },
  {
   "cell_type": "code",
   "source": [
    "import warnings\n",
    "warnings.filterwarnings(\"ignore\", category=DeprecationWarning)\n",
    "warnings.filterwarnings(\"ignore\", category=FutureWarning)"
   ],
   "metadata": {
    "execution": {
     "iopub.status.busy": "2023-07-15T16:46:43.953290Z",
     "iopub.execute_input": "2023-07-15T16:46:43.954326Z",
     "iopub.status.idle": "2023-07-15T16:46:43.966112Z",
     "shell.execute_reply.started": "2023-07-15T16:46:43.954276Z",
     "shell.execute_reply": "2023-07-15T16:46:43.964701Z"
    },
    "trusted": true
   },
   "execution_count": null,
   "outputs": []
  },
  {
   "cell_type": "code",
   "source": [
    "greeks = pd.read_csv(\"/kaggle/input/icr-identify-age-related-conditions/greeks.csv\")\n",
    "test_data = pd.read_csv(\"/kaggle/input/icr-identify-age-related-conditions/test.csv\")\n",
    "data = pd.read_csv(\"/kaggle/input/icr-identify-age-related-conditions/train.csv\", index_col='Id')\n",
    "data.columns = data.columns.str.replace(' ', '')\n",
    "test_data.columns = test_data.columns.str.replace(' ', '')"
   ],
   "metadata": {
    "execution": {
     "iopub.status.busy": "2023-07-15T16:46:43.968211Z",
     "iopub.execute_input": "2023-07-15T16:46:43.969142Z",
     "iopub.status.idle": "2023-07-15T16:46:44.017890Z",
     "shell.execute_reply.started": "2023-07-15T16:46:43.969092Z",
     "shell.execute_reply": "2023-07-15T16:46:44.016564Z"
    },
    "trusted": true
   },
   "execution_count": null,
   "outputs": []
  },
  {
   "cell_type": "markdown",
   "source": [
    "# Visualize the data in line chart\n",
    "feature_names = ['AB', 'AF', 'AH', 'AM', 'AR', 'AX', 'AY', 'AZ', 'BC', 'BN', 'BQ', 'BR', 'BZ', 'CB', 'CF', 'CH', 'CL', 'CR', 'CS', 'CU', 'DA', 'DE', 'DF', 'DH', 'DI', 'DL', 'DN', 'DV', 'DY', 'EB', 'EE', 'EG', 'EH', 'EP', 'EU', 'FE', 'FI', 'FR', 'GB', 'GE', 'GF', 'GH', 'GI']\n",
    "# feature_names = ['AB']\n",
    "\n",
    "def lineChart(feature_name):\n",
    "    feature_data = data[feature_name].to_numpy()\n",
    "    plt.plot(feature_data)\n",
    "    plt.show()\n",
    "\n",
    "# remove the outliers using IQR logic\n",
    "def removeOutliers(feature_data):\n",
    "    # print(feature_data)\n",
    "    mean = np.mean(feature_data)\n",
    "    #print(mean)\n",
    "    q1, q3 = np.percentile(feature_data, [5, 95])\n",
    "    iqr = q3 - q1\n",
    "    lower_bound = q1 - (1.5 * iqr)\n",
    "    upper_bound = q3 + (1.5 * iqr)\n",
    "    outliers = [x for x in feature_data if x < lower_bound or x > upper_bound]\n",
    "    feature_data_replaced = [mean if x < lower_bound or x > upper_bound else x for x in feature_data]\n",
    "    #print(\"The count of outliers are:\", len(outliers))\n",
    "    # print(\"The data with replaced outliers is:\", feature_data_replaced)\n",
    "    return feature_data_replaced\n",
    "\n",
    "for feature_name in feature_names:\n",
    "    # lineChart(feature_name)\n",
    "    feature_data = data[feature_name]\n",
    "    feature_data_new = removeOutliers(feature_data)\n",
    "    # print(len(feature_data), len(feature_data_new))\n",
    "    data[feature_name] = feature_data_new\n",
    "\n"
   ],
   "metadata": {}
  },
  {
   "cell_type": "code",
   "source": [
    "import pandas as pd\n",
    "import seaborn as sns\n",
    "import matplotlib.pyplot as plt\n",
    "\n",
    "df=data\n",
    "# Compute the correlation matrix\n",
    "corr = df.corr()\n",
    "\n",
    "# Generate a mask for the upper triangle\n",
    "mask = np.triu(np.ones_like(corr, dtype=bool))\n",
    "\n",
    "# Set up the matplotlib figure\n",
    "f, ax = plt.subplots(figsize=(11, 9))\n",
    "\n",
    "# Generate a custom diverging colormap\n",
    "cmap = sns.diverging_palette(230, 20, as_cmap=True)\n",
    "\n",
    "# Draw the heatmap with the mask and correct aspect ratio\n",
    "sns.heatmap(corr, mask=mask, cmap=cmap, vmax=.3, center=0,\n",
    "            square=True, linewidths=.5, cbar_kws={\"shrink\": .5})\n",
    "\n",
    "plt.show()"
   ],
   "metadata": {
    "execution": {
     "iopub.status.busy": "2023-07-15T16:46:44.021220Z",
     "iopub.execute_input": "2023-07-15T16:46:44.022151Z",
     "iopub.status.idle": "2023-07-15T16:46:44.801131Z",
     "shell.execute_reply.started": "2023-07-15T16:46:44.022101Z",
     "shell.execute_reply": "2023-07-15T16:46:44.799894Z"
    },
    "trusted": true
   },
   "execution_count": null,
   "outputs": []
  },
  {
   "cell_type": "markdown",
   "source": [
    "# convert 'EJ' to a categorical variable, create onehot encoded columns\n",
    "one_hot_encoded = pd.get_dummies(data['EJ']).add_prefix('EJ_')\n",
    "df_encoded = pd.concat([data, one_hot_encoded], axis=1)"
   ],
   "metadata": {}
  },
  {
   "cell_type": "markdown",
   "source": [
    "df_encoded = df_encoded.drop('EJ', axis=1)"
   ],
   "metadata": {}
  },
  {
   "cell_type": "markdown",
   "source": [
    "data = df_encoded"
   ],
   "metadata": {}
  },
  {
   "cell_type": "code",
   "source": [
    "#replace null columns with mean\n",
    "numeric_col = [column for column in data.columns if column not in ['Id','AB', 'EJ', 'Class']]\n",
    "# Prepare the data - encode, remove inf, -inf and fill NaNs\n",
    "for column in numeric_col:\n",
    "    data[column] = data[column].replace([np.inf, -np.inf], np.nan)\n",
    "    data[column] = data[column].fillna(data[column].mean())"
   ],
   "metadata": {
    "execution": {
     "iopub.status.busy": "2023-07-15T16:46:44.802875Z",
     "iopub.execute_input": "2023-07-15T16:46:44.804074Z",
     "iopub.status.idle": "2023-07-15T16:46:44.859915Z",
     "shell.execute_reply.started": "2023-07-15T16:46:44.804024Z",
     "shell.execute_reply": "2023-07-15T16:46:44.858911Z"
    },
    "trusted": true
   },
   "execution_count": null,
   "outputs": []
  },
  {
   "cell_type": "code",
   "source": [
    "from sklearn.utils import resample\n",
    "\n",
    "# Separate majority and minority classes based on the target variable\n",
    "majority_class = data[data['Class'] == 0]\n",
    "minority_class_1 = data[data['Class'] == 1]"
   ],
   "metadata": {
    "execution": {
     "iopub.status.busy": "2023-07-15T16:46:44.861319Z",
     "iopub.execute_input": "2023-07-15T16:46:44.862353Z",
     "iopub.status.idle": "2023-07-15T16:46:44.874865Z",
     "shell.execute_reply.started": "2023-07-15T16:46:44.862307Z",
     "shell.execute_reply": "2023-07-15T16:46:44.873204Z"
    },
    "trusted": true
   },
   "execution_count": null,
   "outputs": []
  },
  {
   "cell_type": "code",
   "source": [
    "# Upsample the minority classes\n",
    "minority_class_upsampled_1 = resample(minority_class_1,\n",
    "                                      replace=True,\n",
    "                                      n_samples=len(majority_class),\n",
    "                                      random_state=42)\n",
    "\n",
    "\n",
    "\n",
    "# Concatenate the upsampled minority classes with the majority class\n",
    "df_upsampled = pd.concat([majority_class, minority_class_upsampled_1])\n",
    "\n",
    "data = df_upsampled"
   ],
   "metadata": {
    "execution": {
     "iopub.status.busy": "2023-07-15T16:46:44.876847Z",
     "iopub.execute_input": "2023-07-15T16:46:44.877429Z",
     "iopub.status.idle": "2023-07-15T16:46:44.890288Z",
     "shell.execute_reply.started": "2023-07-15T16:46:44.877383Z",
     "shell.execute_reply": "2023-07-15T16:46:44.889009Z"
    },
    "trusted": true
   },
   "execution_count": null,
   "outputs": []
  },
  {
   "cell_type": "code",
   "source": [
    "from sklearn.utils.class_weight import compute_class_weight\n",
    "y = data['Class']\n",
    "\n",
    "class_weights = compute_class_weight('balanced', classes=np.unique(y), y=y) \n",
    "\n",
    "print(class_weights)\n"
   ],
   "metadata": {
    "execution": {
     "iopub.status.busy": "2023-07-15T16:46:44.892644Z",
     "iopub.execute_input": "2023-07-15T16:46:44.893192Z",
     "iopub.status.idle": "2023-07-15T16:46:44.905117Z",
     "shell.execute_reply.started": "2023-07-15T16:46:44.893145Z",
     "shell.execute_reply": "2023-07-15T16:46:44.903693Z"
    },
    "trusted": true
   },
   "execution_count": null,
   "outputs": []
  },
  {
   "cell_type": "code",
   "source": [
    "# Prepare the data - encode, remove inf, -inf and fill NaNs\n",
    "for column in data.columns:\n",
    "    if data[column].dtype == 'object':\n",
    "        data[column] = data[column].astype('category').cat.codes"
   ],
   "metadata": {
    "execution": {
     "iopub.status.busy": "2023-07-15T16:46:44.907072Z",
     "iopub.execute_input": "2023-07-15T16:46:44.907396Z",
     "iopub.status.idle": "2023-07-15T16:46:44.922124Z",
     "shell.execute_reply.started": "2023-07-15T16:46:44.907367Z",
     "shell.execute_reply": "2023-07-15T16:46:44.921123Z"
    },
    "trusted": true
   },
   "execution_count": null,
   "outputs": []
  },
  {
   "cell_type": "code",
   "source": [
    "features = [column for column in data.columns if column not in ['Id', 'Class']]\n",
    "target = 'Class'"
   ],
   "metadata": {
    "execution": {
     "iopub.status.busy": "2023-07-15T16:46:44.926739Z",
     "iopub.execute_input": "2023-07-15T16:46:44.927116Z",
     "iopub.status.idle": "2023-07-15T16:46:44.936769Z",
     "shell.execute_reply.started": "2023-07-15T16:46:44.927084Z",
     "shell.execute_reply": "2023-07-15T16:46:44.935243Z"
    },
    "trusted": true
   },
   "execution_count": null,
   "outputs": []
  },
  {
   "cell_type": "markdown",
   "source": [
    "#### ML"
   ],
   "metadata": {}
  },
  {
   "cell_type": "code",
   "source": [
    "# Use Random Forest to get feature importances\n",
    "rf = RandomForestClassifier(random_state=42)\n",
    "rf.fit(data[features], data[target])"
   ],
   "metadata": {
    "execution": {
     "iopub.status.busy": "2023-07-15T16:46:44.938500Z",
     "iopub.execute_input": "2023-07-15T16:46:44.939721Z",
     "iopub.status.idle": "2023-07-15T16:46:45.442331Z",
     "shell.execute_reply.started": "2023-07-15T16:46:44.939683Z",
     "shell.execute_reply": "2023-07-15T16:46:45.441064Z"
    },
    "trusted": true
   },
   "execution_count": null,
   "outputs": []
  },
  {
   "cell_type": "code",
   "source": [
    "# Get feature importances\n",
    "importances = rf.feature_importances_\n",
    "\n",
    "# Create a DataFrame for visualization\n",
    "feature_importances = pd.DataFrame({'Feature': features, 'Importance': importances})\n",
    "feature_importances = feature_importances.sort_values('Importance', ascending=False)"
   ],
   "metadata": {
    "execution": {
     "iopub.status.busy": "2023-07-15T16:46:45.443963Z",
     "iopub.execute_input": "2023-07-15T16:46:45.444541Z",
     "iopub.status.idle": "2023-07-15T16:46:45.462430Z",
     "shell.execute_reply.started": "2023-07-15T16:46:45.444507Z",
     "shell.execute_reply": "2023-07-15T16:46:45.461512Z"
    },
    "trusted": true
   },
   "execution_count": null,
   "outputs": []
  },
  {
   "cell_type": "code",
   "source": [
    "# Select top features\n",
    "top_features = feature_importances['Feature'][:10].append(feature_importances['Feature'][53:54])\n",
    "print(top_features)"
   ],
   "metadata": {
    "execution": {
     "iopub.status.busy": "2023-07-15T16:46:45.463926Z",
     "iopub.execute_input": "2023-07-15T16:46:45.464488Z",
     "iopub.status.idle": "2023-07-15T16:46:45.477963Z",
     "shell.execute_reply.started": "2023-07-15T16:46:45.464448Z",
     "shell.execute_reply": "2023-07-15T16:46:45.476790Z"
    },
    "trusted": true
   },
   "execution_count": null,
   "outputs": []
  },
  {
   "cell_type": "code",
   "source": [
    "# Train/Test Split\n",
    "X = data[features]\n",
    "y = data[target]\n",
    "X_train, X_test, y_train, y_test = train_test_split(X, y, test_size=0.3, random_state=42)"
   ],
   "metadata": {
    "execution": {
     "iopub.status.busy": "2023-07-15T16:46:45.480025Z",
     "iopub.execute_input": "2023-07-15T16:46:45.480354Z",
     "iopub.status.idle": "2023-07-15T16:46:45.497699Z",
     "shell.execute_reply.started": "2023-07-15T16:46:45.480324Z",
     "shell.execute_reply": "2023-07-15T16:46:45.496272Z"
    },
    "trusted": true
   },
   "execution_count": null,
   "outputs": []
  },
  {
   "cell_type": "code",
   "source": [
    "# Scaling\n",
    "scaler = MinMaxScaler()\n",
    "X_train_scaled = scaler.fit_transform(X_train)\n",
    "X_test_scaled = scaler.transform(X_test)"
   ],
   "metadata": {
    "execution": {
     "iopub.status.busy": "2023-07-15T16:46:45.499872Z",
     "iopub.execute_input": "2023-07-15T16:46:45.500369Z",
     "iopub.status.idle": "2023-07-15T16:46:45.518356Z",
     "shell.execute_reply.started": "2023-07-15T16:46:45.500323Z",
     "shell.execute_reply": "2023-07-15T16:46:45.517022Z"
    },
    "trusted": true
   },
   "execution_count": null,
   "outputs": []
  },
  {
   "cell_type": "code",
   "source": [
    "# Model Definition with RandomForest and Cross-validation\n",
    "rf_model = RandomForestClassifier(n_estimators=100, max_depth=10, min_samples_leaf=5, random_state=42)\n",
    "scores = cross_val_score(rf_model, X_train_scaled, y_train, cv=3, scoring='neg_log_loss')\n",
    "log_loss_scores = -scores\n",
    "print(f'Log Loss scores for each fold: {log_loss_scores}')\n",
    "average_log_loss = np.mean(log_loss_scores)\n",
    "print(f'Average Log Loss: {average_log_loss}')"
   ],
   "metadata": {
    "execution": {
     "iopub.status.busy": "2023-07-15T16:46:45.520681Z",
     "iopub.execute_input": "2023-07-15T16:46:45.521177Z",
     "iopub.status.idle": "2023-07-15T16:46:46.528150Z",
     "shell.execute_reply.started": "2023-07-15T16:46:45.521132Z",
     "shell.execute_reply": "2023-07-15T16:46:46.526906Z"
    },
    "trusted": true
   },
   "execution_count": null,
   "outputs": []
  },
  {
   "cell_type": "code",
   "source": [
    "import lightgbm as lgb\n",
    "from sklearn.metrics import make_scorer\n",
    "from sklearn.model_selection import StratifiedKFold"
   ],
   "metadata": {
    "execution": {
     "iopub.status.busy": "2023-07-15T16:46:46.530066Z",
     "iopub.execute_input": "2023-07-15T16:46:46.530787Z",
     "iopub.status.idle": "2023-07-15T16:46:46.536350Z",
     "shell.execute_reply.started": "2023-07-15T16:46:46.530741Z",
     "shell.execute_reply": "2023-07-15T16:46:46.535476Z"
    },
    "trusted": true
   },
   "execution_count": null,
   "outputs": []
  },
  {
   "cell_type": "code",
   "source": [
    "# Define the LightGBM model\n",
    "lgb_model = lgb.LGBMClassifier(objective='binary', class_weight=dict(enumerate(class_weights)), metric='binary_logloss', reg_lambda=0.3) # reg_alpha=0.2,\n",
    "\n",
    "# Define the cross-validation strategy\n",
    "cv = StratifiedKFold(n_splits=10, random_state=42, shuffle=True)\n",
    "\n",
    "# Define the scorer as log loss\n",
    "scorer = make_scorer(log_loss, greater_is_better=False, needs_proba=True)\n",
    "\n",
    "# Perform cross-validation and calculate the scores\n",
    "scores = cross_val_score(lgb_model, X_train_scaled, y_train, cv=3, scoring=scorer)\n",
    "scores = -scores\n",
    "\n",
    "# Calculate the average score\n",
    "avg_score = np.mean(scores)\n",
    "\n",
    "print(\"Cross-Validation Scores (Log Loss):\")\n",
    "print(scores)\n",
    "print(\"Average Log Loss Score:\", avg_score)"
   ],
   "metadata": {
    "execution": {
     "iopub.status.busy": "2023-07-15T16:46:46.537944Z",
     "iopub.execute_input": "2023-07-15T16:46:46.538678Z",
     "iopub.status.idle": "2023-07-15T16:46:48.584919Z",
     "shell.execute_reply.started": "2023-07-15T16:46:46.538608Z",
     "shell.execute_reply": "2023-07-15T16:46:48.582176Z"
    },
    "trusted": true
   },
   "execution_count": null,
   "outputs": []
  },
  {
   "cell_type": "code",
   "source": [
    "# Fit the model with the training data\n",
    "lgb_model.fit(X_train_scaled, y_train)"
   ],
   "metadata": {
    "execution": {
     "iopub.status.busy": "2023-07-15T16:46:48.586921Z",
     "iopub.execute_input": "2023-07-15T16:46:48.587288Z",
     "iopub.status.idle": "2023-07-15T16:46:49.113669Z",
     "shell.execute_reply.started": "2023-07-15T16:46:48.587255Z",
     "shell.execute_reply": "2023-07-15T16:46:49.112368Z"
    },
    "trusted": true
   },
   "execution_count": null,
   "outputs": []
  },
  {
   "cell_type": "code",
   "source": [
    "# Prepare the test data\n",
    "test_data_clean = test_data[features]\n",
    "test_data_clean = test_data_clean.replace([np.inf, -np.inf], np.nan)\n",
    "test_data_clean.fillna(test_data_clean.median(numeric_only=True), inplace=True)\n",
    "test_data_clean['EJ'] = test_data_clean['EJ'].astype('category').cat.codes\n",
    "test_data_scaled = scaler.transform(test_data_clean)"
   ],
   "metadata": {
    "execution": {
     "iopub.status.busy": "2023-07-15T16:46:49.115324Z",
     "iopub.execute_input": "2023-07-15T16:46:49.115665Z",
     "iopub.status.idle": "2023-07-15T16:46:49.161451Z",
     "shell.execute_reply.started": "2023-07-15T16:46:49.115635Z",
     "shell.execute_reply": "2023-07-15T16:46:49.160284Z"
    },
    "trusted": true
   },
   "execution_count": null,
   "outputs": []
  },
  {
   "cell_type": "code",
   "source": [
    "# Predictions using the fitted model\n",
    "test_preds = lgb_model.predict_proba(test_data_scaled)"
   ],
   "metadata": {
    "execution": {
     "iopub.status.busy": "2023-07-15T16:46:49.162990Z",
     "iopub.execute_input": "2023-07-15T16:46:49.164016Z",
     "iopub.status.idle": "2023-07-15T16:46:49.169659Z",
     "shell.execute_reply.started": "2023-07-15T16:46:49.163973Z",
     "shell.execute_reply": "2023-07-15T16:46:49.168771Z"
    },
    "trusted": true
   },
   "execution_count": null,
   "outputs": []
  },
  {
   "cell_type": "code",
   "source": [
    "# Create a submission file\n",
    "submission = pd.DataFrame(test_data['Id'], columns=['Id'])\n",
    "submission[['class_0', 'class_1']] = test_preds\n",
    "submission.to_csv('submission.csv', index=False)"
   ],
   "metadata": {
    "execution": {
     "iopub.status.busy": "2023-07-15T16:46:49.170743Z",
     "iopub.execute_input": "2023-07-15T16:46:49.171923Z",
     "iopub.status.idle": "2023-07-15T16:46:49.188118Z",
     "shell.execute_reply.started": "2023-07-15T16:46:49.171885Z",
     "shell.execute_reply": "2023-07-15T16:46:49.186838Z"
    },
    "trusted": true
   },
   "execution_count": null,
   "outputs": []
  },
  {
   "cell_type": "code",
   "source": [
    "submission"
   ],
   "metadata": {
    "execution": {
     "iopub.status.busy": "2023-07-15T16:46:49.189703Z",
     "iopub.execute_input": "2023-07-15T16:46:49.190091Z",
     "iopub.status.idle": "2023-07-15T16:46:49.209882Z",
     "shell.execute_reply.started": "2023-07-15T16:46:49.190057Z",
     "shell.execute_reply": "2023-07-15T16:46:49.207952Z"
    },
    "trusted": true
   },
   "execution_count": null,
   "outputs": []
  },
  {
   "cell_type": "markdown",
   "source": [
    "import xgboost as xgb\n",
    "\n",
    "from sklearn.multioutput import MultiOutputClassifier\n",
    "from sklearn.metrics import make_scorer, log_loss\n",
    "\n",
    "\n",
    "# Define the base XGBoost model\n",
    "base_model = xgb.XGBClassifier(objective='binary:logistic', random_state=42)\n",
    "\n",
    "# Wrap the base model with MultiOutputClassifier\n",
    "#model = MultiOutputClassifier(base_model)\n",
    "\n",
    "# Define the scorer as log loss\n",
    "scorer = make_scorer(log_loss, greater_is_better=False, needs_proba=True)\n",
    "\n",
    "# Perform cross-validation and calculate the scores\n",
    "scores = cross_val_score(base_model, X_train_scaled, y_train, scoring=scorer)#cv=5,\n",
    "\n",
    "# Calculate the average score\n",
    "avg_score = np.mean(scores)\n",
    "\n",
    "print(\"Cross-Validation Scores (Log Loss):\")\n",
    "print(scores)\n",
    "print(\"Average Log Loss Score:\", avg_score)\n",
    "#try lgbm without the minus before scorer tomorrow"
   ],
   "metadata": {}
  },
  {
   "cell_type": "code",
   "source": [
    "# Fit the model with the training data\n",
    "#base_model.fit(X_train_scaled, y_train)"
   ],
   "metadata": {
    "execution": {
     "iopub.status.busy": "2023-07-15T16:46:49.211651Z",
     "iopub.execute_input": "2023-07-15T16:46:49.212055Z",
     "iopub.status.idle": "2023-07-15T16:46:49.221774Z",
     "shell.execute_reply.started": "2023-07-15T16:46:49.212020Z",
     "shell.execute_reply": "2023-07-15T16:46:49.220456Z"
    },
    "trusted": true
   },
   "execution_count": null,
   "outputs": []
  },
  {
   "cell_type": "code",
   "source": [
    "# Predictions using the fitted model\n",
    "#test_preds = base_model.predict_proba(test_data_scaled)"
   ],
   "metadata": {
    "execution": {
     "iopub.status.busy": "2023-07-15T16:46:49.223497Z",
     "iopub.execute_input": "2023-07-15T16:46:49.224528Z",
     "iopub.status.idle": "2023-07-15T16:46:49.234663Z",
     "shell.execute_reply.started": "2023-07-15T16:46:49.224486Z",
     "shell.execute_reply": "2023-07-15T16:46:49.233298Z"
    },
    "trusted": true
   },
   "execution_count": null,
   "outputs": []
  },
  {
   "cell_type": "code",
   "source": [
    "#test_preds"
   ],
   "metadata": {
    "execution": {
     "iopub.status.busy": "2023-07-15T16:46:49.236759Z",
     "iopub.execute_input": "2023-07-15T16:46:49.237251Z",
     "iopub.status.idle": "2023-07-15T16:46:49.248034Z",
     "shell.execute_reply.started": "2023-07-15T16:46:49.237206Z",
     "shell.execute_reply": "2023-07-15T16:46:49.246684Z"
    },
    "trusted": true
   },
   "execution_count": null,
   "outputs": []
  },
  {
   "cell_type": "code",
   "source": [],
   "metadata": {},
   "execution_count": null,
   "outputs": []
  },
  {
   "cell_type": "code",
   "source": [],
   "metadata": {},
   "execution_count": null,
   "outputs": []
  }
 ]
}
